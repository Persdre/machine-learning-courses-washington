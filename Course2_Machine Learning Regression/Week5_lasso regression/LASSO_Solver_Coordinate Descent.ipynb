{
 "cells": [
  {
   "cell_type": "markdown",
   "metadata": {},
   "source": [
    "# Regression Week 5: LASSO (coordinate descent)\n",
    "\n",
    "In this notebook, you will implement your very own LASSO solver via coordinate descent. You will:\n",
    "\n",
    "Write a function to normalize features\n",
    "\n",
    "Implement coordinate descent for LASSO\n",
    "\n",
    "Explore effects of L1 penalty"
   ]
  },
  {
   "cell_type": "code",
   "execution_count": 1,
   "metadata": {
    "collapsed": true
   },
   "outputs": [],
   "source": [
    "import pandas as pd\n",
    "\n",
    "dtype_dict = {'bathrooms':float, 'waterfront':int, \n",
    "              'sqft_above':int, 'sqft_living15':float,\n",
    "              'grade':int, 'yr_renovated':int, 'price':float,\n",
    "              'bedrooms':float, 'zipcode':str, 'long':float,\n",
    "              'sqft_lot15':float, 'sqft_living':float, 'floors':float,\n",
    "              'condition':int, 'lat':float, 'date':str, 'sqft_basement':int, \n",
    "              'yr_built':int, 'id':str, 'sqft_lot':int, 'view':int}\n",
    "\n",
    "sales = pd.read_csv('kc_house_data.csv', dtype=dtype_dict)\n"
   ]
  },
  {
   "cell_type": "code",
   "execution_count": 2,
   "metadata": {
    "collapsed": true
   },
   "outputs": [],
   "source": [
    "import numpy as np\n",
    "\n",
    "def predict_output(feature_matrix, weights):\n",
    "    # assume feature_matrix is a numpy matrix containing the features as columns and weights is a corresponding numpy array\n",
    "    # create the predictions vector by using np.dot()\n",
    "    predictions = np.dot(feature_matrix, weights)\n",
    "    \n",
    "    return(predictions)"
   ]
  },
  {
   "cell_type": "code",
   "execution_count": 3,
   "metadata": {
    "collapsed": true
   },
   "outputs": [],
   "source": [
    "def polynomial_dataframe(feature, degree):\n",
    "    # assume that degree >= 1\n",
    "    # initialize the SFrame:\n",
    "    \n",
    "    # and set poly_sframe['power_1'] equal to the passed feature\n",
    "    poly_sframe = pd.DataFrame(feature)\n",
    "    poly_sframe.columns = ['power_1']\n",
    "    # first check if degree > 1\n",
    "    if degree > 1:\n",
    "        # then loop over the remaining degrees:\n",
    "        # range usually starts at 0 and stops at the endpoint-1. We want it to start at 2 and stop at degree\n",
    "        for power in range(2, degree+1): \n",
    "            # first we'll give the column a name:\n",
    "            name = 'power_' + str(power)\n",
    "            # then assign poly_sframe[name] to the appropriate power of feature\n",
    "            poly_sframe[name] = feature**power\n",
    "            \n",
    "    return poly_sframe"
   ]
  },
  {
   "cell_type": "code",
   "execution_count": 4,
   "metadata": {
    "collapsed": true
   },
   "outputs": [],
   "source": [
    "sales['constant'] =1"
   ]
  },
  {
   "cell_type": "markdown",
   "metadata": {},
   "source": [
    "# Normalize features\n",
    "In the house dataset, features vary wildly in their relative magnitude: `sqft_living` is very large overall compared to `bedrooms`, for instance. As a result, weight for `sqft_living` would be much smaller than weight for `bedrooms`. This is problematic because \"small\" weights are dropped first as `l1_penalty` goes up. \n",
    "\n",
    "To give equal considerations for all features, we need to **normalize features** as discussed in the lectures: we divide each feature by its 2-norm so that the transformed feature has norm 1.\n",
    "\n",
    "Let's see how we can do this normalization easily with Numpy: let us first consider a small matrix."
   ]
  },
  {
   "cell_type": "code",
   "execution_count": 5,
   "metadata": {},
   "outputs": [
    {
     "name": "stdout",
     "output_type": "stream",
     "text": [
      "[[  3.   5.   8.]\n",
      " [  4.  12.  15.]]\n"
     ]
    }
   ],
   "source": [
    "X = np.array([[3.,5.,8.],[4.,12.,15.]])\n",
    "print(X)"
   ]
  },
  {
   "cell_type": "code",
   "execution_count": 6,
   "metadata": {},
   "outputs": [
    {
     "name": "stdout",
     "output_type": "stream",
     "text": [
      "[  5.  13.  17.]\n"
     ]
    }
   ],
   "source": [
    "norms = np.linalg.norm(X, axis=0) # gives [norm(X[:,0]), norm(X[:,1]), norm(X[:,2])]\n",
    "print(norms)"
   ]
  },
  {
   "cell_type": "code",
   "execution_count": 7,
   "metadata": {},
   "outputs": [
    {
     "name": "stdout",
     "output_type": "stream",
     "text": [
      "[[ 0.6         0.38461538  0.47058824]\n",
      " [ 0.8         0.92307692  0.88235294]]\n"
     ]
    }
   ],
   "source": [
    "print(X / norms) # gives [X[:,0]/norm(X[:,0]), X[:,1]/norm(X[:,1]), X[:,2]/norm(X[:,2])]"
   ]
  },
  {
   "cell_type": "code",
   "execution_count": 7,
   "metadata": {
    "collapsed": true
   },
   "outputs": [],
   "source": [
    "def normalize_features(feature_matrix):\n",
    "    norms = np.linalg.norm(feature_matrix, axis =0)\n",
    "    normalized_features = feature_matrix / norms\n",
    "    \n",
    "    return normalized_features, norms"
   ]
  },
  {
   "cell_type": "code",
   "execution_count": 9,
   "metadata": {},
   "outputs": [
    {
     "name": "stdout",
     "output_type": "stream",
     "text": [
      "[[ 0.6  0.6  0.6]\n",
      " [ 0.8  0.8  0.8]]\n",
      "[  5.  10.  15.]\n"
     ]
    }
   ],
   "source": [
    "features, norms = normalize_features(np.array([[3.,6.,9.],[4.,8.,12.]]))\n",
    "print(features)\n",
    "# should print\n",
    "# [[ 0.6  0.6  0.6]\n",
    "#  [ 0.8  0.8  0.8]]\n",
    "print(norms)\n",
    "# should print\n",
    "# [5.  10.  15.]"
   ]
  },
  {
   "cell_type": "markdown",
   "metadata": {},
   "source": [
    "# Implementing Coordinate Descent with normalized features\n",
    "\n",
    "We seek to obtain a sparse set of weights by minimizing the LASSO cost function\n",
    "\n",
    "```\n",
    "SUM[ (prediction - output)^2 ] + lambda*( |w[1]| + ... + |w[k]|).\n",
    "```\n",
    "(By convention, we do not include `w[0]` in the L1 penalty term. We never want to push the intercept to zero.)\n",
    "\n",
    "The absolute value sign makes the cost function non-differentiable, so simple gradient descent is not viable (you would need to implement a method called subgradient descent). Instead, we will use **coordinate descent**: at each iteration, we will fix all weights but weight `i` and find the value of weight `i` that minimizes the objective. That is, we look for\n",
    "```\n",
    "argmin_{w[i]} [ SUM[ (prediction - output)^2 ] + lambda*( |w[1]| + ... + |w[k]|) ]\n",
    "```\n",
    "where all weights other than `w[i]` are held to be constant. We will optimize one `w[i]` at a time, circling through the weights multiple times.  \n",
    "  1. Pick a coordinate `i`\n",
    "  2. Compute `w[i]` that minimizes the cost function `SUM[ (prediction - output)^2 ] + lambda*( |w[1]| + ... + |w[k]|)`\n",
    "  3. Repeat Steps 1 and 2 for all coordinates, multiple times"
   ]
  },
  {
   "cell_type": "markdown",
   "metadata": {},
   "source": [
    "For this notebook, we use **cyclical coordinate descent with normalized features**, where we cycle through coordinates 0 to (d-1) in order, and assume the features were normalized as discussed above. The formula for optimizing each coordinate is as follows:\n",
    "```\n",
    "       ┌ (ro[i] + lambda/2)     if ro[i] < -lambda/2\n",
    "w[i] = ├ 0                      if -lambda/2 <= ro[i] <= lambda/2\n",
    "       └ (ro[i] - lambda/2)     if ro[i] > lambda/2\n",
    "```\n",
    "where\n",
    "```\n",
    "ro[i] = SUM[ [feature_i]*(output - prediction + w[i]*[feature_i]) ].\n",
    "```\n",
    "\n",
    "Note that we do not regularize the weight of the constant feature (intercept) `w[0]`, so, for this weight, the update is simply:\n",
    "```\n",
    "w[0] = ro[i]\n",
    "```"
   ]
  },
  {
   "cell_type": "markdown",
   "metadata": {},
   "source": [
    "## Effect of L1 penalty\n",
    "\n",
    "Let us consider a simple model with 2 features:\n"
   ]
  },
  {
   "cell_type": "code",
   "execution_count": 8,
   "metadata": {
    "collapsed": true
   },
   "outputs": [],
   "source": [
    "simple_feature_matrix = sales[['constant','sqft_living','bedrooms']]\n",
    "example_output = sales['price']"
   ]
  },
  {
   "cell_type": "code",
   "execution_count": 9,
   "metadata": {},
   "outputs": [],
   "source": [
    "simple_feature_matrix, norms = normalize_features(simple_feature_matrix)"
   ]
  },
  {
   "cell_type": "markdown",
   "metadata": {},
   "source": [
    "We assign some random set of initial weights and inspect the values of ro[i]:"
   ]
  },
  {
   "cell_type": "code",
   "execution_count": 10,
   "metadata": {
    "collapsed": true
   },
   "outputs": [],
   "source": [
    "weights = np.array([1., 4., 1.])"
   ]
  },
  {
   "cell_type": "markdown",
   "metadata": {},
   "source": [
    "Use predict_output() to make predictions on this data."
   ]
  },
  {
   "cell_type": "code",
   "execution_count": 11,
   "metadata": {},
   "outputs": [
    {
     "name": "stdout",
     "output_type": "stream",
     "text": [
      "(21613,)\n"
     ]
    }
   ],
   "source": [
    "prediction = predict_output(simple_feature_matrix, weights)\n",
    "print(prediction.shape)"
   ]
  },
  {
   "cell_type": "markdown",
   "metadata": {},
   "source": [
    "Compute the values of `ro[i]` for each feature in this simple model, using the formula given above, using the formula:\n",
    "```\n",
    "ro[i] = SUM[ [feature_i]*(output - prediction + w[i]*[feature_i]) ]\n",
    "```\n",
    "\n",
    "*Hint: You can get a Numpy vector for feature_i using:*\n",
    "```\n",
    "simple_feature_matrix[:,i]\n",
    "```"
   ]
  },
  {
   "cell_type": "code",
   "execution_count": 14,
   "metadata": {},
   "outputs": [],
   "source": [
    "ro = np.dot(example_output - prediction + np.dot(simple_feature_matrix, weights), simple_feature_matrix)"
   ]
  },
  {
   "cell_type": "code",
   "execution_count": 23,
   "metadata": {},
   "outputs": [
    {
     "name": "stdout",
     "output_type": "stream",
     "text": [
      "(21613,)\n",
      "[ 79400304.63764465  87939472.68182787  80966703.40538493]\n"
     ]
    }
   ],
   "source": [
    "np.dot(simple_feature_matrix, weights)\n",
    "\n",
    "print((example_output - prediction + np.dot(simple_feature_matrix, weights)).shape)\n",
    "print(ro)"
   ]
  },
  {
   "cell_type": "markdown",
   "metadata": {},
   "source": [
    "***QUIZ QUESTION***\n",
    "\n",
    "Recall that, whenever `ro[i]` falls between `-l1_penalty/2` and `l1_penalty/2`, the corresponding weight `w[i]` is sent to zero. Now suppose we were to take one step of coordinate descent on either feature 1 or feature 2. What range of values of `l1_penalty` **would not** set `w[1]` zero, but **would** set `w[2]` to zero, if we were to take a step in that coordinate? "
   ]
  },
  {
   "cell_type": "markdown",
   "metadata": {},
   "source": [
    "***QUIZ QUESTION***\n",
    "\n",
    "What range of values of `l1_penalty` would set **both** `w[1]` and `w[2]` to zero, if we were to take a step in that coordinate?"
   ]
  },
  {
   "cell_type": "markdown",
   "metadata": {},
   "source": [
    "So we can say that `ro[i]` quantifies the significance of the i-th feature: the larger `ro[i]` is, the more likely it is for the i-th feature to be retained."
   ]
  },
  {
   "cell_type": "code",
   "execution_count": 24,
   "metadata": {
    "collapsed": true
   },
   "outputs": [],
   "source": [
    "simple_feature_matrix = sales[['constant','sqft_living','bedrooms']]\n",
    "example_output = sales['price']\n",
    "simple_feature_matrix, norms = normalize_features(simple_feature_matrix)\n",
    "simple_feature_matrix = simple_feature_matrix.values\n",
    "weights = np.array([1., 4., 1.])"
   ]
  },
  {
   "cell_type": "code",
   "execution_count": 28,
   "metadata": {},
   "outputs": [
    {
     "name": "stdout",
     "output_type": "stream",
     "text": [
      "[ 79400304.63764465  87939472.68182787  80966703.40538493]\n"
     ]
    }
   ],
   "source": [
    "r0 =  np.dot(example_output - prediction + np.dot(simple_feature_matrix, weights), simple_feature_matrix)\n",
    "\n",
    "print(r0)"
   ]
  },
  {
   "cell_type": "code",
   "execution_count": 29,
   "metadata": {},
   "outputs": [
    {
     "name": "stdout",
     "output_type": "stream",
     "text": [
      "17939470.8233\n",
      "10966698.6662\n"
     ]
    }
   ],
   "source": [
    "# l1_penalty = 1.4e8\n",
    "#weights_1_4e8, iteration = lasso_coordinate_descent_step(normalized_simple_feature_matrix, example_output,\n",
    "#                                           initial_weights, 1.4e8, tolerance)\n",
    "print(lasso_coordinate_descent_step(1, normalized_simple_feature_matrix, example_output, weights, 1.4e8))\n",
    "print(lasso_coordinate_descent_step(2, normalized_simple_feature_matrix, example_output, weights, 1.4e8))\n"
   ]
  },
  {
   "cell_type": "code",
   "execution_count": 33,
   "metadata": {},
   "outputs": [
    {
     "name": "stdout",
     "output_type": "stream",
     "text": [
      "5939470.82325\n",
      "0.0\n",
      "\n",
      "1439470.82325\n",
      "0.0\n",
      "\n",
      "0.0\n",
      "0.0\n",
      "0.0\n",
      "0.0\n"
     ]
    }
   ],
   "source": [
    "# l1_penalty = 1.64e8\n",
    "#                                           initial_weights, 1.4e8, tolerance)\n",
    "print(lasso_coordinate_descent_step(1, normalized_simple_feature_matrix, example_output, weights, 1.64e8))\n",
    "print(lasso_coordinate_descent_step(2, normalized_simple_feature_matrix, example_output, weights, 1.64e8))\n",
    "\n",
    "print('')\n",
    "# l1_penalty = 1.73e8\n",
    "print(lasso_coordinate_descent_step(1, normalized_simple_feature_matrix, example_output, weights, 1.73e8))\n",
    "print(lasso_coordinate_descent_step(2, normalized_simple_feature_matrix, example_output, weights, 1.73e8))\n",
    "\n",
    "print('')\n",
    "# l1_penalty = 1.9e8\n",
    "print(lasso_coordinate_descent_step(1, normalized_simple_feature_matrix, example_output, weights, 1.9e8))\n",
    "print(lasso_coordinate_descent_step(2, normalized_simple_feature_matrix, example_output, weights, 1.9e8))\n",
    "\n",
    "# l1_penalty = 2.3e8\n",
    "print(lasso_coordinate_descent_step(1, normalized_simple_feature_matrix, example_output, weights, 2.3e8))\n",
    "print(lasso_coordinate_descent_step(2, normalized_simple_feature_matrix, example_output, weights, 2.3e8))"
   ]
  },
  {
   "cell_type": "markdown",
   "metadata": {},
   "source": [
    "## Single Coordinate Descent Step\n",
    "Using the formula above, implement coordinate descent that minimizes the cost function over a single feature i. Note that the intercept (weight 0) is not regularized. The function should accept feature matrix, output, current weights, l1 penalty, and index of feature to optimize over. The function should return new weight for feature i."
   ]
  },
  {
   "cell_type": "code",
   "execution_count": 12,
   "metadata": {
    "collapsed": true
   },
   "outputs": [],
   "source": [
    "def lasso_coordinate_descent_step(i, feature_matrix, output, weights, l1_penalty):\n",
    "    # compute prediction\n",
    "    prediction = predict_output(feature_matrix, weights)\n",
    "    # compute ro[i] = SUM[ [feature_i]*(output - prediction + weight[i]*[feature_i]) ]\n",
    "    ro_i =  np.dot(output - prediction + feature_matrix[:,i] * weights[i], feature_matrix[:,i])\n",
    "    \n",
    "    if i == 0: # intercept -- do not regularize\n",
    "        new_weight_i = ro_i\n",
    "    elif ro_i < -l1_penalty/2.:\n",
    "        new_weight_i = ro_i +  l1_penalty /2.\n",
    "    elif ro_i > l1_penalty/2.:\n",
    "        new_weight_i = ro_i - l1_penalty /2.\n",
    "    else:\n",
    "        new_weight_i = 0.\n",
    "    \n",
    "    return new_weight_i"
   ]
  },
  {
   "cell_type": "markdown",
   "metadata": {},
   "source": [
    "To test the function, run the following cell:"
   ]
  },
  {
   "cell_type": "code",
   "execution_count": 77,
   "metadata": {},
   "outputs": [
    {
     "name": "stdout",
     "output_type": "stream",
     "text": [
      "[[ 0.83205029  0.31622777]\n",
      " [ 0.5547002   0.9486833 ]]\n"
     ]
    }
   ],
   "source": [
    "print(np.array([[3./math.sqrt(13),1./math.sqrt(10)],\n",
    "                   [2./math.sqrt(13),3./math.sqrt(10)]]))"
   ]
  },
  {
   "cell_type": "code",
   "execution_count": 45,
   "metadata": {},
   "outputs": [
    {
     "name": "stdout",
     "output_type": "stream",
     "text": [
      "0.425558846691\n"
     ]
    }
   ],
   "source": [
    "\n",
    "# should print 0.425558846691\n",
    "import math\n",
    "print(lasso_coordinate_descent_step(1, np.array([[3./math.sqrt(13),1./math.sqrt(10)],\n",
    "                                                 [2./math.sqrt(13),3./math.sqrt(10)]]), np.array([1., 1.]), np.array([1., 4.]), 0.1))"
   ]
  },
  {
   "cell_type": "markdown",
   "metadata": {},
   "source": [
    "# Cyclical coordinate descent\n",
    "\n",
    "Now that we have a function that optimizes the cost function over a single coordinate, let us implement cyclical coordinate descent where we optimize coordinates 0, 1, ..., (d-1) in order and repeat.\n",
    "\n",
    "When do we know to stop? Each time we scan all the coordinates (features) once, we measure the change in weight for each coordinate. If no coordinate changes by more than a specified threshold, we stop."
   ]
  },
  {
   "cell_type": "markdown",
   "metadata": {},
   "source": [
    "For each iteration:\n",
    "\n",
    "As you loop over features in order and perform coordinate descent, measure how much each coordinate changes.\n",
    "After the loop, if the maximum change across all coordinates is falls below the tolerance, stop. Otherwise, go back to step 1.\n",
    "Return weights\n",
    "\n",
    "**IMPORTANT: when computing a new weight for coordinate i, make sure to incorporate the new weights for coordinates 0, 1, ..., i-1. One good way is to update your weights variable in-place. See following pseudocode for illustration.**\n",
    "```\n",
    "for i in range(len(weights)):\n",
    "    old_weights_i = weights[i] # remember old value of weight[i], as it will be overwritten\n",
    "    # the following line uses new values for weight[0], weight[1], ..., weight[i-1]\n",
    "    #     and old values for weight[i], ..., weight[d-1]\n",
    "    weights[i] = lasso_coordinate_descent_step(i, feature_matrix, output, weights, l1_penalty)\n",
    "    \n",
    "    # use old_weights_i to compute change in coordinate\n",
    "    ...\n",
    "```"
   ]
  },
  {
   "cell_type": "code",
   "execution_count": 14,
   "metadata": {},
   "outputs": [],
   "source": [
    "def lasso_cyclical_coordinate_descent(feature_matrix, output, initial_weights, l1_penalty, tolerance):\n",
    "    weights = initial_weights\n",
    "    test = 0\n",
    "    iteration = 0\n",
    "    while(test == 0):\n",
    "        test = 1\n",
    "        iteration +=1\n",
    "        for i in range(len(weights)):\n",
    "            old_weights_i = weights[i]\n",
    "            new_weights_i = lasso_coordinate_descent_step(i, feature_matrix, output, weights, l1_penalty)   \n",
    "            weights[i] = new_weights_i\n",
    "\n",
    "            if abs(new_weights_i- old_weights_i) >= tolerance:\n",
    "                test = 0\n",
    "            else:\n",
    "                test = test * 1\n",
    "            #print(\"check test value: \", test)\n",
    "    \n",
    "        \n",
    "    return weights, iteration\n",
    "        "
   ]
  },
  {
   "cell_type": "code",
   "execution_count": 179,
   "metadata": {
    "collapsed": true
   },
   "outputs": [],
   "source": [
    "def lasso_cyclical_coordinate_descent_print_result(feature_matrix, output, initial_weights, l1_penalty, tolerance):\n",
    "    weights = initial_weights\n",
    "    test = 0\n",
    "    iteration = 0\n",
    "    while(test == 0):\n",
    "        test = 1\n",
    "        iteration +=1\n",
    "        for i in range(len(weights)):\n",
    "            old_weights_i = weights[i]\n",
    "            new_weights_i = lasso_coordinate_descent_step(i, feature_matrix, output, weights, l1_penalty)   \n",
    "            weights[i] = new_weights_i\n",
    "\n",
    "            if abs(new_weights_i- old_weights_i) >= tolerance:\n",
    "                test = 0\n",
    "            else:\n",
    "                test = test * 1\n",
    "            #print(\"check test value: \", test)\n",
    "        print(\"iteration: \", iteration)\n",
    "        print(\"weights: \", weights)\n",
    "       \n",
    "    return weights, iteration"
   ]
  },
  {
   "cell_type": "markdown",
   "metadata": {},
   "source": [
    "Using the following parameters, learn the weights on the sales dataset."
   ]
  },
  {
   "cell_type": "code",
   "execution_count": 15,
   "metadata": {
    "collapsed": true
   },
   "outputs": [],
   "source": [
    "simple_feature_matrix = sales[['constant','sqft_living','bedrooms']]\n",
    "example_output = sales['price']\n",
    "normalized_simple_feature_matrix, norms = normalize_features(simple_feature_matrix)\n",
    "normalized_simple_feature_matrix = normalized_simple_feature_matrix.values\n",
    "initial_weights = np.zeros(3)\n",
    "l1_penalty = 1e7\n",
    "tolerance = 1.0"
   ]
  },
  {
   "cell_type": "markdown",
   "metadata": {},
   "source": [
    "First create a normalized version of the feature matrix, normalized_simple_feature_matrix."
   ]
  },
  {
   "cell_type": "markdown",
   "metadata": {},
   "source": [
    "Then, run your implementation of LASSO coordinate descent:"
   ]
  },
  {
   "cell_type": "code",
   "execution_count": 16,
   "metadata": {},
   "outputs": [],
   "source": [
    "weights, iteration = lasso_cyclical_coordinate_descent(normalized_simple_feature_matrix, example_output,\n",
    "                                            initial_weights, l1_penalty, tolerance)"
   ]
  },
  {
   "cell_type": "code",
   "execution_count": 17,
   "metadata": {},
   "outputs": [
    {
     "name": "stdout",
     "output_type": "stream",
     "text": [
      "final Weight:  [ 21624997.95951908  63157247.20788956         0.        ]\n",
      "Number of iteration:  93\n"
     ]
    }
   ],
   "source": [
    "print(\"final Weight: \", weights)\n",
    "print(\"Number of iteration: \", iteration)"
   ]
  },
  {
   "cell_type": "markdown",
   "metadata": {},
   "source": [
    "**QUIZ QUESTIONS**\n",
    "\n",
    "What is the RSS of the learned model on the normalized dataset? (Hint: use the normalized feature matrix when you make predictions.)\n",
    "Which features had weight zero at convergence?"
   ]
  },
  {
   "cell_type": "code",
   "execution_count": 113,
   "metadata": {
    "collapsed": true
   },
   "outputs": [],
   "source": [
    "def RSS_model(weights, matrix_features, output):\n",
    "    prediction = predict_output(matrix_features, weights)\n",
    "    RSS = ((prediction - output)**2).sum()\n",
    "    return RSS\n"
   ]
  },
  {
   "cell_type": "code",
   "execution_count": 115,
   "metadata": {},
   "outputs": [
    {
     "name": "stdout",
     "output_type": "stream",
     "text": [
      "16.304924767153803\n"
     ]
    }
   ],
   "source": [
    "print(RSS_model(weights, normalized_simple_feature_matrix, example_output)/1e14)"
   ]
  },
  {
   "cell_type": "markdown",
   "metadata": {},
   "source": [
    "# Evaluating LASSO fit with more features\n",
    "\n",
    "Let us split the sales dataset into training and test sets."
   ]
  },
  {
   "cell_type": "code",
   "execution_count": 122,
   "metadata": {},
   "outputs": [],
   "source": [
    "testing = pd.read_csv('kc_house_test_data.csv', dtype=dtype_dict)\n",
    "training = pd.read_csv('kc_house_train_data.csv', dtype=dtype_dict)\n",
    "testing['constant'] =1\n",
    "training['constant'] =1"
   ]
  },
  {
   "cell_type": "markdown",
   "metadata": {},
   "source": [
    "let's consider the following set:"
   ]
  },
  {
   "cell_type": "code",
   "execution_count": 123,
   "metadata": {
    "collapsed": true
   },
   "outputs": [],
   "source": [
    "all_features = ['constant',\n",
    "                'bedrooms',\n",
    "                'bathrooms',\n",
    "                'sqft_living',\n",
    "                'sqft_lot',\n",
    "                'floors',\n",
    "                'waterfront', \n",
    "                'view', \n",
    "                'condition', \n",
    "                'grade',\n",
    "                'sqft_above',\n",
    "                'sqft_basement',\n",
    "                'yr_built', \n",
    "                'yr_renovated']"
   ]
  },
  {
   "cell_type": "markdown",
   "metadata": {},
   "source": [
    "First, create a normalized feature matrix from the TRAINING data with these features. (Make you store the norms for the normalization, since we'll use them later)"
   ]
  },
  {
   "cell_type": "code",
   "execution_count": 124,
   "metadata": {
    "collapsed": true
   },
   "outputs": [],
   "source": [
    "feature_matrix = sales[all_features]\n",
    "output = sales['price']\n",
    "normalized_feature_matrix, norms = normalize_features(feature_matrix)\n",
    "normalized_feature_matrix = normalized_feature_matrix.values\n",
    "initial_weights = np.zeros(len(all_features))\n",
    "l1_penalty = 1e7\n",
    "tolerance = 1.0"
   ]
  },
  {
   "cell_type": "code",
   "execution_count": 125,
   "metadata": {},
   "outputs": [
    {
     "name": "stdout",
     "output_type": "stream",
     "text": [
      "final Weight:  [ 24964802.80942068         0.                 0.          56397533.51865718\n",
      "         0.                 0.           3689656.56716452\n",
      "   8630251.04703001         0.                 0.                 0.\n",
      "         0.                 0.                 0.        ]\n",
      "Number of iteration:  93\n"
     ]
    }
   ],
   "source": [
    "weights, iteration = lasso_cyclical_coordinate_descent(normalized_feature_matrix, output,\n",
    "                                            initial_weights, l1_penalty, tolerance)\n",
    "\n",
    "print(\"final Weight: \", weights)\n",
    "print(\"Number of iteration: \", iteration)"
   ]
  },
  {
   "cell_type": "code",
   "execution_count": 127,
   "metadata": {},
   "outputs": [],
   "source": [
    "def print_weights_feature(weights, features):\n",
    "    \n",
    "    results = pd.DataFrame(weights)\n",
    "    results.columns =['weights']\n",
    "    results['feature']= all_features\n",
    "    print(results)"
   ]
  },
  {
   "cell_type": "code",
   "execution_count": 128,
   "metadata": {},
   "outputs": [
    {
     "name": "stdout",
     "output_type": "stream",
     "text": [
      "         weights        feature\n",
      "0   2.496480e+07       constant\n",
      "1   0.000000e+00       bedrooms\n",
      "2   0.000000e+00      bathrooms\n",
      "3   5.639753e+07    sqft_living\n",
      "4   0.000000e+00       sqft_lot\n",
      "5   0.000000e+00         floors\n",
      "6   3.689657e+06     waterfront\n",
      "7   8.630251e+06           view\n",
      "8   0.000000e+00      condition\n",
      "9   0.000000e+00          grade\n",
      "10  0.000000e+00     sqft_above\n",
      "11  0.000000e+00  sqft_basement\n",
      "12  0.000000e+00       yr_built\n",
      "13  0.000000e+00   yr_renovated\n"
     ]
    }
   ],
   "source": [
    "print_weights_feature(weights, all_features)"
   ]
  },
  {
   "cell_type": "markdown",
   "metadata": {},
   "source": [
    "Next, learn the weights with l1_penalty=1e8, on the training data. Initialize weights to all zeros, and set the tolerance=1. Call resulting weights weights1e8, you will need them later."
   ]
  },
  {
   "cell_type": "code",
   "execution_count": 133,
   "metadata": {},
   "outputs": [
    {
     "name": "stdout",
     "output_type": "stream",
     "text": [
      "2\n",
      "         weights        feature\n",
      "0   7.940030e+07       constant\n",
      "1   0.000000e+00       bedrooms\n",
      "2   0.000000e+00      bathrooms\n",
      "3   0.000000e+00    sqft_living\n",
      "4   0.000000e+00       sqft_lot\n",
      "5   0.000000e+00         floors\n",
      "6   0.000000e+00     waterfront\n",
      "7   0.000000e+00           view\n",
      "8   0.000000e+00      condition\n",
      "9   0.000000e+00          grade\n",
      "10  0.000000e+00     sqft_above\n",
      "11  0.000000e+00  sqft_basement\n",
      "12  0.000000e+00       yr_built\n",
      "13  0.000000e+00   yr_renovated\n"
     ]
    }
   ],
   "source": [
    "l1_penalty = 1e8\n",
    "feature_matrix = sales[all_features]\n",
    "output = sales['price']\n",
    "normalized_feature_matrix, norms = normalize_features(feature_matrix)\n",
    "normalized_feature_matrix = normalized_feature_matrix.values\n",
    "initial_weights = np.zeros(len(all_features))\n",
    "weights, iteration = lasso_cyclical_coordinate_descent(normalized_feature_matrix, output,\n",
    "                                            initial_weights, l1_penalty, tolerance)\n",
    "\n",
    "print(iteration)\n",
    "print_weights_feature(weights, all_features)"
   ]
  },
  {
   "cell_type": "markdown",
   "metadata": {},
   "source": [
    "**QUIZ QUESTION**\n",
    "\n",
    "What features had non-zero weight in this case?\n",
    "\n",
    "Finally, learn the weights with ```l1_penalty=1e4```, on the training data. Initialize weights to all zeros, and set the ```tolerance=5e5```. Call resulting weights weights1e4, you will need them later. (This case will take quite a bit longer to converge than the others above.)"
   ]
  },
  {
   "cell_type": "code",
   "execution_count": 145,
   "metadata": {},
   "outputs": [
    {
     "name": "stdout",
     "output_type": "stream",
     "text": [
      "75\n",
      "         weights        feature\n",
      "0   3.290218e+07       constant\n",
      "1  -2.104832e+07       bedrooms\n",
      "2   1.172652e+07      bathrooms\n",
      "3   1.127792e+08    sqft_living\n",
      "4  -2.390976e+06       sqft_lot\n",
      "5  -3.542257e+06         floors\n",
      "6   6.956463e+06     waterfront\n",
      "7   8.214963e+06           view\n",
      "8   1.045765e+07      condition\n",
      "9   2.565027e+07          grade\n",
      "10 -2.788943e+07     sqft_above\n",
      "11 -8.333938e+06  sqft_basement\n",
      "12 -5.281293e+07       yr_built\n",
      "13  3.513673e+06   yr_renovated\n"
     ]
    }
   ],
   "source": [
    "l1_penalty = 1e4\n",
    "tolerance = 5e5\n",
    "weights1e4, iteration = lasso_cyclical_coordinate_descent(normalized_feature_matrix, output,\n",
    "                                            initial_weights, l1_penalty, tolerance)\n",
    "\n",
    "print(iteration)\n",
    "print_weights_feature(weights1e4, all_features)"
   ]
  },
  {
   "cell_type": "code",
   "execution_count": 146,
   "metadata": {},
   "outputs": [
    {
     "name": "stdout",
     "output_type": "stream",
     "text": [
      "18\n",
      "         weights        feature\n",
      "0   2.646160e+07       constant\n",
      "1   0.000000e+00       bedrooms\n",
      "2   0.000000e+00      bathrooms\n",
      "3   5.498416e+07    sqft_living\n",
      "4   0.000000e+00       sqft_lot\n",
      "5   0.000000e+00         floors\n",
      "6   3.680872e+06     waterfront\n",
      "7   8.729617e+06           view\n",
      "8   0.000000e+00      condition\n",
      "9   0.000000e+00          grade\n",
      "10  0.000000e+00     sqft_above\n",
      "11  0.000000e+00  sqft_basement\n",
      "12  0.000000e+00       yr_built\n",
      "13  0.000000e+00   yr_renovated\n"
     ]
    }
   ],
   "source": [
    "l1_penalty = 1e7\n",
    "normalized_feature_matrix, norms = normalize_features(feature_matrix)\n",
    "normalized_feature_matrix = normalized_feature_matrix.values\n",
    "initial_weights = np.zeros(len(all_features))\n",
    "\n",
    "weights1e7, iteration = lasso_cyclical_coordinate_descent(normalized_feature_matrix, output,\n",
    "                                            initial_weights, l1_penalty, tolerance)\n",
    "\n",
    "print(iteration)\n",
    "print_weights_feature(weights1e7, all_features)"
   ]
  },
  {
   "cell_type": "code",
   "execution_count": 147,
   "metadata": {},
   "outputs": [
    {
     "name": "stdout",
     "output_type": "stream",
     "text": [
      "2\n",
      "         weights        feature\n",
      "0   7.940030e+07       constant\n",
      "1   0.000000e+00       bedrooms\n",
      "2   0.000000e+00      bathrooms\n",
      "3   0.000000e+00    sqft_living\n",
      "4   0.000000e+00       sqft_lot\n",
      "5   0.000000e+00         floors\n",
      "6   0.000000e+00     waterfront\n",
      "7   0.000000e+00           view\n",
      "8   0.000000e+00      condition\n",
      "9   0.000000e+00          grade\n",
      "10  0.000000e+00     sqft_above\n",
      "11  0.000000e+00  sqft_basement\n",
      "12  0.000000e+00       yr_built\n",
      "13  0.000000e+00   yr_renovated\n"
     ]
    }
   ],
   "source": [
    "l1_penalty = 1e8\n",
    "\n",
    "normalized_feature_matrix, norms = normalize_features(feature_matrix)\n",
    "normalized_feature_matrix = normalized_feature_matrix.values\n",
    "initial_weights = np.zeros(len(all_features))\n",
    "\n",
    "weights1e8, iteration = lasso_cyclical_coordinate_descent(normalized_feature_matrix, output,\n",
    "                                            initial_weights, l1_penalty, tolerance)\n",
    "\n",
    "print(iteration)\n",
    "print_weights_feature(weights1e8, all_features)"
   ]
  },
  {
   "cell_type": "markdown",
   "metadata": {},
   "source": [
    "# Rescaling Learned Weights\n",
    "\n",
    "Recall that we normalized our feature matrix, before learning the weights.  To use these weights on a test set, we must normalize the test data in the same way.\n",
    "\n",
    "Alternatively, we can rescale the learned weights to include the normalization, so we never have to worry about normalizing the test data: \n",
    "\n",
    "In this case, we must scale the resulting weights so that we can make predictions with *original* features:\n",
    " 1. Store the norms of the original features to a vector called `norms`:\n",
    "```\n",
    "features, norms = normalize_features(features)\n",
    "```\n",
    " 2. Run Lasso on the normalized features and obtain a `weights` vector\n",
    " 3. Compute the weights for the original features by performing element-wise division, i.e.\n",
    "```\n",
    "weights_normalized = weights / norms\n",
    "```\n",
    "Now, we can apply `weights_normalized` to the test data, without normalizing it!"
   ]
  },
  {
   "cell_type": "code",
   "execution_count": 157,
   "metadata": {},
   "outputs": [
    {
     "name": "stdout",
     "output_type": "stream",
     "text": [
      "{'1e4': array([  2.23803608e+05,  -4.09439994e+04,   3.54411654e+04,\n",
      "         3.37402534e+02,  -3.68885849e-01,  -1.51646356e+04,\n",
      "         5.44872235e+05,   6.97336122e+04,   2.04939298e+04,\n",
      "         2.25229349e+04,  -9.62587182e+01,  -1.06970093e+02,\n",
      "        -1.82241271e+02,   5.82307263e+01]),\n",
      " '1e7': array([  1.79994200e+05,   0.00000000e+00,   0.00000000e+00,\n",
      "         1.64496539e+02,   0.00000000e+00,   0.00000000e+00,\n",
      "         2.88308130e+05,   7.41023081e+04,   0.00000000e+00,\n",
      "         0.00000000e+00,   0.00000000e+00,   0.00000000e+00,\n",
      "         0.00000000e+00,   0.00000000e+00]),\n",
      " '1e8': array([ 540088.14176653,       0.        ,       0.        ,\n",
      "             0.        ,       0.        ,       0.        ,\n",
      "             0.        ,       0.        ,       0.        ,\n",
      "             0.        ,       0.        ,       0.        ,\n",
      "             0.        ,       0.        ])}\n"
     ]
    }
   ],
   "source": [
    "weights_normalized = {'1e4': weights1e4/norms,'1e7': weights1e7/norms, '1e8': weights1e8/norms}\n",
    "import pprint\n",
    "pprint.pprint(weights_normalized)"
   ]
  },
  {
   "cell_type": "markdown",
   "metadata": {},
   "source": [
    "# Evaluating each of the learned models on the test data\n",
    "\n",
    "Let's now evaluate the three models on the test data:"
   ]
  },
  {
   "cell_type": "code",
   "execution_count": 163,
   "metadata": {},
   "outputs": [
    {
     "name": "stdout",
     "output_type": "stream",
     "text": [
      "2.250153766247389\n"
     ]
    }
   ],
   "source": [
    "# you don't need to normalize test data set anymore\n",
    "\n",
    "RSS_test_1e4 =  RSS_model(weights_normalized['1e4'], testing[all_features], testing['price'])\n",
    "print(RSS_test_1e4/1e14)\n"
   ]
  },
  {
   "cell_type": "code",
   "execution_count": 164,
   "metadata": {},
   "outputs": [
    {
     "name": "stdout",
     "output_type": "stream",
     "text": [
      "2.7252671457516944\n"
     ]
    }
   ],
   "source": [
    "RSS_test_1e7 =  RSS_model(weights_normalized['1e7'], testing[all_features], testing['price'])\n",
    "print(RSS_test_1e7/1e14)"
   ]
  },
  {
   "cell_type": "code",
   "execution_count": 165,
   "metadata": {},
   "outputs": [
    {
     "name": "stdout",
     "output_type": "stream",
     "text": [
      "5.371458503528432\n"
     ]
    }
   ],
   "source": [
    "RSS_test_1e8 =  RSS_model(weights_normalized['1e8'], testing[all_features], testing['price'])\n",
    "print(RSS_test_1e8/1e14)"
   ]
  }
 ],
 "metadata": {
  "kernelspec": {
   "display_name": "Python 3",
   "language": "python",
   "name": "python3"
  },
  "language_info": {
   "codemirror_mode": {
    "name": "ipython",
    "version": 3
   },
   "file_extension": ".py",
   "mimetype": "text/x-python",
   "name": "python",
   "nbconvert_exporter": "python",
   "pygments_lexer": "ipython3",
   "version": "3.6.3"
  }
 },
 "nbformat": 4,
 "nbformat_minor": 2
}
