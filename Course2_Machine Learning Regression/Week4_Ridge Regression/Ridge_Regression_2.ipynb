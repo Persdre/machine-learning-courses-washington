{
 "cells": [
  {
   "cell_type": "code",
   "execution_count": 1,
   "metadata": {
    "collapsed": true
   },
   "outputs": [],
   "source": [
    "import pandas as pd\n",
    "import numpy as np\n",
    "dtype_dict = {'bathrooms':float, 'waterfront':int, 'sqft_above':int, 'sqft_living15':float, 'grade':int, 'yr_renovated':int, 'price':float, 'bedrooms':float, 'zipcode':str, 'long':float, 'sqft_lot15':float, 'sqft_living':float, 'floors':float, 'condition':int, 'lat':float, 'date':str, 'sqft_basement':int, 'yr_built':int, 'id':str, 'sqft_lot':int, 'view':int}\n"
   ]
  },
  {
   "cell_type": "code",
   "execution_count": 2,
   "metadata": {
    "collapsed": true
   },
   "outputs": [],
   "source": [
    "def predict_output(feature_matrix, weights):\n",
    "    # assume feature_matrix is a numpy matrix containing the features as columns and weights is a corresponding numpy array\n",
    "    # create the predictions vector by using np.dot()\n",
    "    predictions = np.dot(feature_matrix, weights)\n",
    "    \n",
    "    return(predictions)\n"
   ]
  },
  {
   "cell_type": "code",
   "execution_count": 4,
   "metadata": {
    "collapsed": true
   },
   "outputs": [],
   "source": [
    "def polynomial_dataframe(feature, degree):\n",
    "    # assume that degree >= 1\n",
    "    # initialize the SFrame:\n",
    "    \n",
    "    # and set poly_sframe['power_1'] equal to the passed feature\n",
    "    poly_sframe = pd.DataFrame(feature)\n",
    "    poly_sframe.columns = ['power_1']\n",
    "    # first check if degree > 1\n",
    "    if degree > 1:\n",
    "        # then loop over the remaining degrees:\n",
    "        # range usually starts at 0 and stops at the endpoint-1. We want it to start at 2 and stop at degree\n",
    "        for power in range(2, degree+1): \n",
    "            # first we'll give the column a name:\n",
    "            name = 'power_' + str(power)\n",
    "            # then assign poly_sframe[name] to the appropriate power of feature\n",
    "            poly_sframe[name] = feature**power\n",
    "            \n",
    "    return poly_sframe"
   ]
  },
  {
   "cell_type": "markdown",
   "metadata": {},
   "source": [
    "## Computing the Derivative\n",
    "\n",
    "We are now going to move to computing the derivative of the regression cost function. Recall that the cost function is the sum over the data points of the squared difference between an observed output and a predicted output, plus the L2 penalty term.\n",
    "```\n",
    "Cost(w)\n",
    "= SUM[ (prediction - output)^2 ]\n",
    "+ l2_penalty*(w[0]^2 + w[1]^2 + ... + w[k]^2).\n",
    "```\n",
    "\n",
    "Since the derivative of a sum is the sum of the derivatives, we can take the derivative of the first part (the RSS) as we did in the notebook for the unregularized case in Week 2 and add the derivative of the regularization part.  As we saw, the derivative of the RSS with respect to `w[i]` can be written as: \n",
    "```\n",
    "2*SUM[ error*[feature_i] ].\n",
    "```\n",
    "The derivative of the regularization term with respect to `w[i]` is:\n",
    "```\n",
    "2*l2_penalty*w[i].\n",
    "```\n",
    "Summing both, we get\n",
    "```\n",
    "2*SUM[ error*[feature_i] ] + 2*l2_penalty*w[i].\n",
    "```\n",
    "That is, the derivative for the weight for feature i is the sum (over data points) of 2 times the product of the error and the feature itself, plus `2*l2_penalty*w[i]`. \n",
    "\n",
    "**We will not regularize the constant.**  Thus, in the case of the constant, the derivative is just twice the sum of the errors (without the `2*l2_penalty*w[0]` term).\n",
    "\n",
    "Recall that twice the sum of the product of two vectors is just twice the dot product of the two vectors. Therefore the derivative for the weight for feature_i is just two times the dot product between the values of feature_i and the current errors, plus `2*l2_penalty*w[i]`.\n",
    "\n",
    "With this in mind complete the following derivative function which computes the derivative of the weight given the value of the feature (over all data points) and the errors (over all data points).  To decide when to we are dealing with the constant (so we don't regularize it) we added the extra parameter to the call `feature_is_constant` which you should set to `True` when computing the derivative of the constant and `False` otherwise."
   ]
  },
  {
   "cell_type": "code",
   "execution_count": 5,
   "metadata": {
    "collapsed": true
   },
   "outputs": [],
   "source": [
    "def feature_derivative_ridge(errors, feature, weight, l2_penalty, feature_is_constant):\n",
    "    # If feature_is_constant is True, derivative is twice the dot product of errors and feature\n",
    "    \n",
    "    if(feature_is_constant ==True):\n",
    "        derivative = (2 * np.dot(errors,feature)) + 2 * l2_penalty * weight\n",
    "    else:\n",
    "        derivative = (2 * np.dot(errors, feature))\n",
    "    # Otherwise, derivative is twice the dot product plus 2*l2_penalty*weight\n",
    "    \n",
    "    return derivative"
   ]
  },
  {
   "cell_type": "markdown",
   "metadata": {},
   "source": [
    "Test your feature derivartive run the following:"
   ]
  },
  {
   "cell_type": "code",
   "execution_count": 7,
   "metadata": {},
   "outputs": [
    {
     "name": "stdout",
     "output_type": "stream",
     "text": [
      "               id             date     price  bedrooms  bathrooms  \\\n",
      "19452  3980300371  20140926T000000  142000.0       0.0        0.0   \n",
      "\n",
      "       sqft_living  sqft_lot  floors  waterfront  view    ...     sqft_above  \\\n",
      "19452        290.0     20875     1.0           0     0    ...            290   \n",
      "\n",
      "       sqft_basement  yr_built  yr_renovated  zipcode      lat     long  \\\n",
      "19452              0      1963             0    98024  47.5308 -121.888   \n",
      "\n",
      "       sqft_living15  sqft_lot15  constant  \n",
      "19452         1620.0     22850.0         1  \n",
      "\n",
      "[1 rows x 22 columns]\n"
     ]
    }
   ],
   "source": [
    "import pprint \n",
    "\n",
    "sales = pd.read_csv('kc_house_data.csv', dtype=dtype_dict)\n",
    "sales = sales.sort_values(by = ['sqft_living','price'])\n",
    "sales['constant'] =1\n",
    "#sales = sales.insert(loc=0, column='constant', value=newclm)\n",
    "\n",
    "print(sales.head(1))"
   ]
  },
  {
   "cell_type": "code",
   "execution_count": 9,
   "metadata": {},
   "outputs": [
    {
     "name": "stdout",
     "output_type": "stream",
     "text": [
      "(21613,)\n",
      "(21613, 2)\n",
      "(2,)\n"
     ]
    }
   ],
   "source": [
    "example_features = sales[['constant','sqft_living']]\n",
    "example_output = sales['price']\n",
    "my_weights = np.array([1., 10.])\n",
    "\n",
    "test_predictions = predict_output(example_features, my_weights) \n",
    "errors = test_predictions - example_output # prediction errors\n",
    "\n",
    "print(errors.shape)\n",
    "print(example_features.shape)\n",
    "print(my_weights.shape)"
   ]
  },
  {
   "cell_type": "code",
   "execution_count": 18,
   "metadata": {},
   "outputs": [
    {
     "name": "stdout",
     "output_type": "stream",
     "text": [
      "(2,)\n",
      "       constant  sqft_living\n",
      "19452         1        290.0\n",
      "15381         1        370.0\n"
     ]
    }
   ],
   "source": [
    "print( (2 * np.dot(errors, example_features)).shape)\n",
    "\n",
    "print(example_features.head(2))"
   ]
  },
  {
   "cell_type": "code",
   "execution_count": 21,
   "metadata": {},
   "outputs": [
    {
     "name": "stdout",
     "output_type": "stream",
     "text": [
      "-22446749330.0\n",
      "[ -2.24467493e+10  -5.65541668e+13]\n"
     ]
    }
   ],
   "source": [
    "print (feature_derivative_ridge(errors, example_features['constant'], my_weights[1], 1, False))\n",
    "\n",
    "print (feature_derivative_ridge(errors, example_features, my_weights, 1, False))\n"
   ]
  },
  {
   "cell_type": "markdown",
   "metadata": {},
   "source": [
    "To test your feature derivartive run the following:"
   ]
  },
  {
   "cell_type": "code",
   "execution_count": 27,
   "metadata": {},
   "outputs": [
    {
     "name": "stdout",
     "output_type": "stream",
     "text": [
      "-5.6554166816e+13\n",
      "-56554166815950.0\n",
      "-22446749328.0\n",
      "-22446749330.0\n",
      "sum of squared error =  -22446749330.0\n"
     ]
    }
   ],
   "source": [
    "# next two lines should print the same values\n",
    "print (feature_derivative_ridge(errors, example_features['sqft_living'], my_weights[1], 1, False))\n",
    "print (np.sum(errors*example_features['sqft_living'])*2+20.)\n",
    "\n",
    "# next two lines should print the same values\n",
    "print (feature_derivative_ridge(errors, example_features['constant'], my_weights[0], 1, True))\n",
    "print (np.sum(errors)*2.)\n",
    "\n",
    "print ('sum of squared error = ', np.sum(errors)*2.)"
   ]
  },
  {
   "cell_type": "markdown",
   "metadata": {},
   "source": [
    "# Gradient Descent\n",
    "Now we will write a function that performs a gradient descent. The basic premise is simple. Given a starting point we update the current weights by moving in the negative gradient direction. Recall that the gradient is the direction of increase and therefore the negative gradient is the direction of decrease and we're trying to minimize a cost function.\n",
    "\n",
    "The amount by which we move in the negative gradient direction is called the 'step size'. We stop when we are 'sufficiently close' to the optimum. Unlike in Week 2, this time we will set a maximum number of iterations and take gradient steps until we reach this maximum number. If no maximum number is supplied, the maximum should be set 100 by default. (Use default parameter values in Python.)\n",
    "\n",
    "With this in mind, complete the following gradient descent function below using your derivative function above. For each step in the gradient descent, we update the weight for each feature before computing our stopping criteria."
   ]
  },
  {
   "cell_type": "code",
   "execution_count": 35,
   "metadata": {
    "collapsed": true
   },
   "outputs": [],
   "source": [
    "def ridge_regression_gradient_descent(feature_matrix, output, initial_weights, step_size, l2_penalty, max_iterations=100):\n",
    "    print ('Starting gradient descent with l2_penalty = ' + str(l2_penalty))\n",
    "    \n",
    "    weights = np.array(initial_weights) # make sure it's a numpy array\n",
    "    iteration = 0 # iteration counter\n",
    "    print_frequency = 1  # for adjusting frequency of debugging output\n",
    "    \n",
    "    #while not reached maximum number of iterations:\n",
    "    while iteration < max_iterations:\n",
    "        \n",
    "        iteration += 1  # increment iteration counter\n",
    "        ### === code section for adjusting frequency of debugging output. ===\n",
    "        if iteration == 10:\n",
    "            print_frequency = 10\n",
    "        if iteration == 100:\n",
    "            print_frequency = 100\n",
    "        if iteration%print_frequency==0:\n",
    "            print('Iteration = ' + str(iteration))\n",
    "        ### === end code section ===\n",
    "        \n",
    "        # compute the predictions based on feature_matrix and weights using your predict_output() function\n",
    "        predictions = predict_output(feature_matrix, weights) \n",
    "        # compute the errors as predictions - output\n",
    "        errors = predictions - output\n",
    "        # from time to time, print the value of the cost function\n",
    "        if iteration%print_frequency==0:\n",
    "            print ('Cost function = ', str(np.dot(errors,errors) + l2_penalty*(np.dot(weights,weights) - weights[0]**2)))\n",
    "        \n",
    "        #for i in xrange(len(weights)): # loop over each weight\n",
    "            # Recall that feature_matrix[:,i] is the feature column associated with weights[i]\n",
    "            # compute the derivative for weight[i].\n",
    "            #(Remember: when i=0, you are computing the derivative of the constant!)\n",
    "        derivative = feature_derivative_ridge(errors, feature_matrix, weights, l2_penalty, True)\n",
    "        weights -= step_size * derivative\n",
    "            # subtract the step size times the derivative from the current weight\n",
    "            \n",
    "    print ('Done with gradient descent at iteration ', iteration)\n",
    "    print ('Learned weights = ', str(weights))\n",
    "    return weights"
   ]
  },
  {
   "cell_type": "markdown",
   "metadata": {},
   "source": [
    "# Visualizing effect of L2 penalty\n",
    "\n",
    "The L2 penalty gets its name because it causes weights to have small L2 norms than otherwise. Let's see how large weights get penalized. Let us consider a simple model with 1 feature:"
   ]
  },
  {
   "cell_type": "code",
   "execution_count": 60,
   "metadata": {},
   "outputs": [],
   "source": [
    "train = pd.read_csv('kc_house_train_data.csv')\n",
    "test = pd.read_csv('kc_house_test_data.csv')\n",
    "\n",
    "train['constant'] =1\n",
    "test['constant']=1\n",
    "\n",
    "train_example_features = train[['constant','sqft_living']]\n",
    "test_example_features = test[['constant','sqft_living']]\n",
    "\n",
    "output_train_example = train['price']\n",
    "output_test_texample = test['price']"
   ]
  },
  {
   "cell_type": "markdown",
   "metadata": {},
   "source": [
    "In this part, we will only use 'sqft_living' to predict 'price'. Use the get_numpy_data function to get a Numpy versions of your data with only this feature, for both the train_data and the test_data.\n",
    "\n",
    "Let's set the parameters for our optimization:"
   ]
  },
  {
   "cell_type": "code",
   "execution_count": 61,
   "metadata": {
    "collapsed": true
   },
   "outputs": [],
   "source": [
    "initial_weights = np.array([0., 0.])\n",
    "step_size = 1e-12\n",
    "max_iterations=1000\n"
   ]
  },
  {
   "cell_type": "code",
   "execution_count": null,
   "metadata": {
    "collapsed": true
   },
   "outputs": [],
   "source": []
  },
  {
   "cell_type": "markdown",
   "metadata": {},
   "source": [
    "First, let's consider no regularization. Set the l2_penalty to 0.0 and run your ridge regression algorithm to learn the weights of your model. Call your weights:\n",
    "\n",
    "simple_weights_0_penalty\n",
    "\n",
    "we'll use them later."
   ]
  },
  {
   "cell_type": "code",
   "execution_count": 62,
   "metadata": {},
   "outputs": [
    {
     "name": "stdout",
     "output_type": "stream",
     "text": [
      "Starting gradient descent with l2_penalty = 0\n",
      "Iteration = 1\n",
      "Cost function =  7.43305185234e+15\n",
      "Iteration = 2\n",
      "Cost function =  5.39426721353e+15\n",
      "Iteration = 3\n",
      "Cost function =  4.02323773629e+15\n",
      "Iteration = 4\n",
      "Cost function =  3.1012561833e+15\n",
      "Iteration = 5\n",
      "Cost function =  2.4812476436e+15\n",
      "Iteration = 6\n",
      "Cost function =  2.0643080768e+15\n",
      "Iteration = 7\n",
      "Cost function =  1.78392709616e+15\n",
      "Iteration = 8\n",
      "Cost function =  1.59537820185e+15\n",
      "Iteration = 9\n",
      "Cost function =  1.4685839897e+15\n",
      "Iteration = 10\n",
      "Cost function =  1.38331819009e+15\n",
      "Iteration = 20\n",
      "Cost function =  1.21156213902e+15\n",
      "Iteration = 30\n",
      "Cost function =  1.20831376121e+15\n",
      "Iteration = 40\n",
      "Cost function =  1.20825232478e+15\n",
      "Iteration = 50\n",
      "Cost function =  1.20825116214e+15\n",
      "Iteration = 60\n",
      "Cost function =  1.20825113944e+15\n",
      "Iteration = 70\n",
      "Cost function =  1.2082511383e+15\n",
      "Iteration = 80\n",
      "Cost function =  1.20825113757e+15\n",
      "Iteration = 90\n",
      "Cost function =  1.20825113685e+15\n",
      "Iteration = 100\n",
      "Cost function =  1.20825113613e+15\n",
      "Iteration = 200\n",
      "Cost function =  1.2082511289e+15\n",
      "Iteration = 300\n",
      "Cost function =  1.20825112168e+15\n",
      "Iteration = 400\n",
      "Cost function =  1.20825111445e+15\n",
      "Iteration = 500\n",
      "Cost function =  1.20825110722e+15\n",
      "Iteration = 600\n",
      "Cost function =  1.2082511e+15\n",
      "Iteration = 700\n",
      "Cost function =  1.20825109277e+15\n",
      "Iteration = 800\n",
      "Cost function =  1.20825108554e+15\n",
      "Iteration = 900\n",
      "Cost function =  1.20825107832e+15\n",
      "Iteration = 1000\n",
      "Cost function =  1.20825107109e+15\n",
      "Done with gradient descent at iteration  1000\n",
      "Learned weights =  [ -1.63113515e-01   2.63024369e+02]\n"
     ]
    }
   ],
   "source": [
    "simple_weights_0_penalty = ridge_regression_gradient_descent(train_example_features, \n",
    "                                                       output_train_example, \n",
    "                                                       initial_weights, \n",
    "                                                       step_size, \n",
    "                                                       0, \n",
    "                                                       max_iterations)\n"
   ]
  },
  {
   "cell_type": "code",
   "execution_count": 63,
   "metadata": {},
   "outputs": [
    {
     "name": "stdout",
     "output_type": "stream",
     "text": [
      "Starting gradient descent with l2_penalty = 100000000000.0\n",
      "Iteration = 1\n",
      "Cost function =  7.43305185234e+15\n",
      "Iteration = 2\n",
      "Cost function =  5.61830389891e+15\n",
      "Iteration = 3\n",
      "Cost function =  4.92061332784e+15\n",
      "Iteration = 4\n",
      "Cost function =  4.65238205635e+15\n",
      "Iteration = 5\n",
      "Cost function =  4.54925894962e+15\n",
      "Iteration = 6\n",
      "Cost function =  4.50961265457e+15\n",
      "Iteration = 7\n",
      "Cost function =  4.49437039712e+15\n",
      "Iteration = 8\n",
      "Cost function =  4.4885104179e+15\n",
      "Iteration = 9\n",
      "Cost function =  4.48625751221e+15\n",
      "Iteration = 10\n",
      "Cost function =  4.48539136804e+15\n",
      "Iteration = 20\n",
      "Cost function =  4.48485042808e+15\n",
      "Iteration = 30\n",
      "Cost function =  4.48485039003e+15\n",
      "Iteration = 40\n",
      "Cost function =  4.48485039004e+15\n",
      "Iteration = 50\n",
      "Cost function =  4.48485039005e+15\n",
      "Iteration = 60\n",
      "Cost function =  4.48485039005e+15\n",
      "Iteration = 70\n",
      "Cost function =  4.48485039005e+15\n",
      "Iteration = 80\n",
      "Cost function =  4.48485039005e+15\n",
      "Iteration = 90\n",
      "Cost function =  4.48485039005e+15\n",
      "Iteration = 100\n",
      "Cost function =  4.48485039005e+15\n",
      "Iteration = 200\n",
      "Cost function =  4.48485039005e+15\n",
      "Iteration = 300\n",
      "Cost function =  4.48485039005e+15\n",
      "Iteration = 400\n",
      "Cost function =  4.48485039005e+15\n",
      "Iteration = 500\n",
      "Cost function =  4.48485039005e+15\n",
      "Iteration = 600\n",
      "Cost function =  4.48485039005e+15\n",
      "Iteration = 700\n",
      "Cost function =  4.48485039005e+15\n",
      "Iteration = 800\n",
      "Cost function =  4.48485039005e+15\n",
      "Iteration = 900\n",
      "Cost function =  4.48485039005e+15\n",
      "Iteration = 1000\n",
      "Cost function =  4.48485039005e+15\n",
      "Done with gradient descent at iteration  1000\n",
      "Learned weights =  [  4.87184758e-02   1.24574021e+02]\n"
     ]
    }
   ],
   "source": [
    "simple_weights_high_penalty = ridge_regression_gradient_descent(train_example_features, \n",
    "                                                       output_train_example, \n",
    "                                                       initial_weights, \n",
    "                                                       step_size, \n",
    "                                                       1e11, \n",
    "                                                       max_iterations)"
   ]
  },
  {
   "cell_type": "code",
   "execution_count": 64,
   "metadata": {},
   "outputs": [
    {
     "data": {
      "text/plain": [
       "<matplotlib.legend.Legend at 0x8da6223978>"
      ]
     },
     "execution_count": 64,
     "metadata": {},
     "output_type": "execute_result"
    },
    {
     "data": {
      "image/png": "[encoded data removed]",
      "text/plain": [
       "<matplotlib.figure.Figure at 0x8da609c9e8>"
      ]
     },
     "metadata": {},
     "output_type": "display_data"
    }
   ],
   "source": [
    "import matplotlib.pyplot as plt\n",
    "from matplotlib.legend_handler import HandlerLine2D\n",
    "%matplotlib inline\n",
    "plt.plot(train_example_features['sqft_living'],output_train_example,'k.')\n",
    "plt.plot(train_example_features['sqft_living'],predict_output(train_example_features, simple_weights_0_penalty),\n",
    "         'b-')\n",
    "plt.plot(train_example_features['sqft_living'],predict_output(train_example_features, simple_weights_high_penalty),\n",
    "         'r-')\n",
    "\n",
    "plt.legend( [\"Raw data\", \"Simple weights_0_penalty\", \"Simple_weights_high_penalty\"])"
   ]
  },
  {
   "cell_type": "markdown",
   "metadata": {},
   "source": [
    "Compute the RSS on the TEST data for the following three sets of weights:\n",
    "\n",
    "The initial weights (all zeros)\n",
    "\n",
    "The weights learned with no regularization\n",
    "\n",
    "The weights learned with high regularization\n",
    "\n",
    "Which weights perform best?"
   ]
  },
  {
   "cell_type": "code",
   "execution_count": 45,
   "metadata": {
    "collapsed": true
   },
   "outputs": [],
   "source": [
    "def Residual_sum_square(output, predicts):\n",
    "    return ((output-predicts)**2).sum()\n"
   ]
  },
  {
   "cell_type": "code",
   "execution_count": 65,
   "metadata": {},
   "outputs": [
    {
     "name": "stdout",
     "output_type": "stream",
     "text": [
      "RSS of zero regulation:  275723632153607.75\n"
     ]
    }
   ],
   "source": [
    "# RSS of no_regularization\n",
    "print(\"RSS of zero regulation: \", Residual_sum_square(\n",
    "    output_test_texample, \n",
    "    predict_output(test_example_features, simple_weights_0_penalty) ))"
   ]
  },
  {
   "cell_type": "code",
   "execution_count": 69,
   "metadata": {},
   "outputs": [
    {
     "name": "stdout",
     "output_type": "stream",
     "text": [
      "RSS of high regulation:  6.946543095785416\n"
     ]
    }
   ],
   "source": [
    "# RSS of high_regularization\n",
    "print(\"RSS of high regulation: \", Residual_sum_square(\n",
    "    output_test_texample, \n",
    "    predict_output(test_example_features, simple_weights_high_penalty) )/(1e14))"
   ]
  },
  {
   "cell_type": "code",
   "execution_count": 68,
   "metadata": {},
   "outputs": [
    {
     "name": "stdout",
     "output_type": "stream",
     "text": [
      "RSS of zero weights:  1.784273286136298\n"
     ]
    }
   ],
   "source": [
    "# RSS of initial weights of zeros\n",
    "\n",
    "print(\"RSS of zero weights: \", ((output_test_texample)**2).sum()/(1e15))"
   ]
  },
  {
   "cell_type": "markdown",
   "metadata": {},
   "source": [
    "# Running a multiple regression with L2 penalty\n",
    "\n",
    "Let us now consider a model with 2 features: ['sqft_living', 'sqft_living15'].\n",
    "\n",
    "First, create Numpy versions of your training and test data with these two features."
   ]
  },
  {
   "cell_type": "markdown",
   "metadata": {},
   "source": [
    "First, create Numpy versions of your training and test data with these two features."
   ]
  },
  {
   "cell_type": "code",
   "execution_count": 70,
   "metadata": {
    "collapsed": true
   },
   "outputs": [],
   "source": [
    "train_feature_matrix = train[['constant','sqft_living','sqft_living15']]\n",
    "test_feature_matrix = test[['constant','sqft_living','sqft_living15']]\n",
    "output_train = train['price']\n",
    "output_test = test['price']"
   ]
  },
  {
   "cell_type": "markdown",
   "metadata": {},
   "source": [
    "We need to re-inialize the weights, since we have one extra parameter. Let us also set the step size and maximum number of iterations."
   ]
  },
  {
   "cell_type": "code",
   "execution_count": 71,
   "metadata": {
    "collapsed": true
   },
   "outputs": [],
   "source": [
    "initial_weights = np.array([0.0,0.0,0.0])\n",
    "step_size = 1e-12\n",
    "max_iterations = 1000"
   ]
  },
  {
   "cell_type": "markdown",
   "metadata": {},
   "source": [
    "First, let's consider no regularization. Set the l2_penalty to 0.0 and run your ridge regression algorithm to learn the weights of your model. Call your weights:\n",
    "\n",
    "multiple_weights_0_penalty"
   ]
  },
  {
   "cell_type": "code",
   "execution_count": 72,
   "metadata": {},
   "outputs": [
    {
     "name": "stdout",
     "output_type": "stream",
     "text": [
      "Starting gradient descent with l2_penalty = 0\n",
      "Iteration = 1\n",
      "Cost function =  7.43305185234e+15\n",
      "Iteration = 2\n",
      "Cost function =  4.05675233205e+15\n",
      "Iteration = 3\n",
      "Cost function =  2.52956511453e+15\n",
      "Iteration = 4\n",
      "Cost function =  1.8385566943e+15\n",
      "Iteration = 5\n",
      "Cost function =  1.52567557515e+15\n",
      "Iteration = 6\n",
      "Cost function =  1.38378949857e+15\n",
      "Iteration = 7\n",
      "Cost function =  1.31923260615e+15\n",
      "Iteration = 8\n",
      "Cost function =  1.28964887188e+15\n",
      "Iteration = 9\n",
      "Cost function =  1.27588472391e+15\n",
      "Iteration = 10\n",
      "Cost function =  1.2692788074e+15\n",
      "Iteration = 20\n",
      "Cost function =  1.25781238602e+15\n",
      "Iteration = 30\n",
      "Cost function =  1.25195457086e+15\n",
      "Iteration = 40\n",
      "Cost function =  1.24675542266e+15\n",
      "Iteration = 50\n",
      "Cost function =  1.24213950817e+15\n",
      "Iteration = 60\n",
      "Cost function =  1.23804140048e+15\n",
      "Iteration = 70\n",
      "Cost function =  1.23440301274e+15\n",
      "Iteration = 80\n",
      "Cost function =  1.2311727742e+15\n",
      "Iteration = 90\n",
      "Cost function =  1.22830489923e+15\n",
      "Iteration = 100\n",
      "Cost function =  1.22575873839e+15\n",
      "Iteration = 200\n",
      "Cost function =  1.21173888029e+15\n",
      "Iteration = 300\n",
      "Cost function =  1.20747307976e+15\n",
      "Iteration = 400\n",
      "Cost function =  1.20617512454e+15\n",
      "Iteration = 500\n",
      "Cost function =  1.205780189e+15\n",
      "Iteration = 600\n",
      "Cost function =  1.20566001323e+15\n",
      "Iteration = 700\n",
      "Cost function =  1.20562343801e+15\n",
      "Iteration = 800\n",
      "Cost function =  1.20561229974e+15\n",
      "Iteration = 900\n",
      "Cost function =  1.20560890112e+15\n",
      "Iteration = 1000\n",
      "Cost function =  1.20560785742e+15\n",
      "Done with gradient descent at iteration  1000\n",
      "Learned weights =  [  -0.35743483  243.05416982   22.41481497]\n"
     ]
    }
   ],
   "source": [
    "multiple_weights_0_penalty = ridge_regression_gradient_descent(train_feature_matrix, \n",
    "                                                       output_train, \n",
    "                                                       initial_weights, \n",
    "                                                       step_size, \n",
    "                                                       0, \n",
    "                                                       max_iterations)"
   ]
  },
  {
   "cell_type": "markdown",
   "metadata": {},
   "source": [
    "Next, let's consider high regularization. Set the l2_penalty to 1e11 and run your ridge regression algorithm to learn the weights of your model. Call your weights:\n",
    "\n",
    "multiple_weights_high_penalty"
   ]
  },
  {
   "cell_type": "code",
   "execution_count": 73,
   "metadata": {},
   "outputs": [
    {
     "name": "stdout",
     "output_type": "stream",
     "text": [
      "Starting gradient descent with l2_penalty = 100000000000.0\n",
      "Iteration = 1\n",
      "Cost function =  7.43305185234e+15\n",
      "Iteration = 2\n",
      "Cost function =  4.46048979092e+15\n",
      "Iteration = 3\n",
      "Cost function =  3.79667450459e+15\n",
      "Iteration = 4\n",
      "Cost function =  3.64831960209e+15\n",
      "Iteration = 5\n",
      "Cost function =  3.61509121357e+15\n",
      "Iteration = 6\n",
      "Cost function =  3.60760289463e+15\n",
      "Iteration = 7\n",
      "Cost function =  3.60588651809e+15\n",
      "Iteration = 8\n",
      "Cost function =  3.60547511535e+15\n",
      "Iteration = 9\n",
      "Cost function =  3.60536545395e+15\n",
      "Iteration = 10\n",
      "Cost function =  3.60532973391e+15\n",
      "Iteration = 20\n",
      "Cost function =  3.60529506655e+15\n",
      "Iteration = 30\n",
      "Cost function =  3.60529477466e+15\n",
      "Iteration = 40\n",
      "Cost function =  3.60529477179e+15\n",
      "Iteration = 50\n",
      "Cost function =  3.60529477176e+15\n",
      "Iteration = 60\n",
      "Cost function =  3.60529477176e+15\n",
      "Iteration = 70\n",
      "Cost function =  3.60529477176e+15\n",
      "Iteration = 80\n",
      "Cost function =  3.60529477176e+15\n",
      "Iteration = 90\n",
      "Cost function =  3.60529477176e+15\n",
      "Iteration = 100\n",
      "Cost function =  3.60529477176e+15\n",
      "Iteration = 200\n",
      "Cost function =  3.60529477176e+15\n",
      "Iteration = 300\n",
      "Cost function =  3.60529477176e+15\n",
      "Iteration = 400\n",
      "Cost function =  3.60529477176e+15\n",
      "Iteration = 500\n",
      "Cost function =  3.60529477176e+15\n",
      "Iteration = 600\n",
      "Cost function =  3.60529477176e+15\n",
      "Iteration = 700\n",
      "Cost function =  3.60529477176e+15\n",
      "Iteration = 800\n",
      "Cost function =  3.60529477176e+15\n",
      "Iteration = 900\n",
      "Cost function =  3.60529477176e+15\n",
      "Iteration = 1000\n",
      "Cost function =  3.60529477176e+15\n",
      "Done with gradient descent at iteration  1000\n",
      "Learned weights =  [  3.36011655e-02   9.14901676e+01   7.84374903e+01]\n"
     ]
    }
   ],
   "source": [
    "multiple_weights_high_penalty = ridge_regression_gradient_descent(train_feature_matrix, \n",
    "                                                       output_train, \n",
    "                                                       initial_weights, \n",
    "                                                       step_size, \n",
    "                                                       1e11, \n",
    "                                                       max_iterations)"
   ]
  },
  {
   "cell_type": "markdown",
   "metadata": {},
   "source": [
    "Compute the RSS on the TEST data for the following three sets of weights:\n",
    "\n",
    "The initial weights (all zeros)\n",
    "\n",
    "The weights learned with no regularization\n",
    "\n",
    "The weights learned with high regularization\n",
    "\n",
    "Which weights perform best?"
   ]
  },
  {
   "cell_type": "code",
   "execution_count": 76,
   "metadata": {},
   "outputs": [
    {
     "name": "stdout",
     "output_type": "stream",
     "text": [
      "RSS of zero regulation:  2.7406761591857567\n",
      "RSS of high regulation:  5.004085302367192\n",
      "RSS of zero weights:  1784273286136298.0\n"
     ]
    }
   ],
   "source": [
    "# RSS of no_regularization\n",
    "print(\"RSS of zero regulation: \", Residual_sum_square(\n",
    "    output_test, \n",
    "    predict_output(test_feature_matrix, multiple_weights_0_penalty) )/1e14)\n",
    "\n",
    "# RSS of high_regularization\n",
    "print(\"RSS of high regulation: \", Residual_sum_square(\n",
    "    output_test, \n",
    "    predict_output(test_feature_matrix, multiple_weights_high_penalty) )/1e14)\n",
    "\n",
    "# RSS of initial weights of zeros\n",
    "\n",
    "print(\"RSS of zero weights: \", ((output_test)**2).sum())"
   ]
  },
  {
   "cell_type": "markdown",
   "metadata": {},
   "source": [
    "Predict the house price for the 1st house in the test set using the no regularization and high regularization models. (Remember that python starts indexing from 0.) How far is the prediction from the actual price? Which weights perform best for the 1st house?"
   ]
  },
  {
   "cell_type": "code",
   "execution_count": 57,
   "metadata": {},
   "outputs": [
    {
     "name": "stdout",
     "output_type": "stream",
     "text": [
      "original price:  323000.0\n",
      "price of zeros_peanlity:  514644.075028\n",
      "price of zeros_peanlity:  281140.910142\n"
     ]
    }
   ],
   "source": [
    "predict_zeros_penality = predict_output(test_feature_matrix, multiple_weights_0_penalty)\n",
    "predict_high_penality = predict_output(test_feature_matrix, multiple_weights_high_penalty)\n",
    "print(\"original price: \", output_test[0])\n",
    "print(\"price of zeros_peanlity: \", predict_zeros_penality[0])\n",
    "print(\"price of zeros_peanlity: \", predict_high_penality[0])\n",
    "\n"
   ]
  },
  {
   "cell_type": "code",
   "execution_count": 58,
   "metadata": {},
   "outputs": [
    {
     "name": "stdout",
     "output_type": "stream",
     "text": [
      "0    323000.0\n",
      "1    530000.0\n",
      "2    189000.0\n",
      "3    687500.0\n",
      "4    240000.0\n",
      "5    585000.0\n",
      "6    425000.0\n",
      "7    699950.0\n",
      "8    375000.0\n",
      "9    205425.0\n",
      "Name: price, dtype: float64\n"
     ]
    }
   ],
   "source": [
    "print(output_test[0:10])"
   ]
  },
  {
   "cell_type": "markdown",
   "metadata": {},
   "source": [
    "# QUIZ QUESTIONS\n",
    "\n",
    "What is the value of the coefficient for sqft_living that you learned with no regularization, rounded to 1 decimal place? \n",
    "\n",
    "What about the one with high regularization?\n",
    "\n",
    "What are the RSS on the test data for each of the set of weights above (initial, no regularization, high regularization)?\n",
    "\n",
    "We make prediction for the first house in the test set using two sets of weights (no regularization vs high regularization).\n",
    "\n",
    "Which weights make better prediction for that particular house?"
   ]
  },
  {
   "cell_type": "code",
   "execution_count": null,
   "metadata": {
    "collapsed": true
   },
   "outputs": [],
   "source": []
  }
 ],
 "metadata": {
  "kernelspec": {
   "display_name": "Python 3",
   "language": "python",
   "name": "python3"
  },
  "language_info": {
   "codemirror_mode": {
    "name": "ipython",
    "version": 3
   },
   "file_extension": ".py",
   "mimetype": "text/x-python",
   "name": "python",
   "nbconvert_exporter": "python",
   "pygments_lexer": "ipython3",
   "version": "3.6.3"
  }
 },
 "nbformat": 4,
 "nbformat_minor": 2
}
