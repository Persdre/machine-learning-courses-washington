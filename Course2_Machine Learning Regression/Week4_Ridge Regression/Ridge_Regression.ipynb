{
 "cells": [
  {
   "cell_type": "code",
   "execution_count": 1,
   "metadata": {},
   "outputs": [
    {
     "name": "stdout",
     "output_type": "stream",
     "text": [
      "               id             date     price  bedrooms  bathrooms  \\\n",
      "19452  3980300371  20140926T000000  142000.0       0.0       0.00   \n",
      "15381  2856101479  20140701T000000  276000.0       1.0       0.75   \n",
      "\n",
      "       sqft_living  sqft_lot  floors  waterfront  view     ...      grade  \\\n",
      "19452        290.0     20875     1.0           0     0     ...          1   \n",
      "15381        370.0      1801     1.0           0     0     ...          5   \n",
      "\n",
      "       sqft_above  sqft_basement  yr_built  yr_renovated  zipcode      lat  \\\n",
      "19452         290              0      1963             0    98024  47.5308   \n",
      "15381         370              0      1923             0    98117  47.6778   \n",
      "\n",
      "          long  sqft_living15  sqft_lot15  \n",
      "19452 -121.888         1620.0     22850.0  \n",
      "15381 -122.389         1340.0      5000.0  \n",
      "\n",
      "[2 rows x 21 columns]\n"
     ]
    }
   ],
   "source": [
    "import pandas as pd\n",
    "import numpy as np\n",
    "dtype_dict = {'bathrooms':float, 'waterfront':int, 'sqft_above':int, 'sqft_living15':float, 'grade':int, 'yr_renovated':int, 'price':float, 'bedrooms':float, 'zipcode':str, 'long':float, 'sqft_lot15':float, 'sqft_living':float, 'floors':float, 'condition':int, 'lat':float, 'date':str, 'sqft_basement':int, 'yr_built':int, 'id':str, 'sqft_lot':int, 'view':int}\n",
    "\n",
    "sales = pd.read_csv('kc_house_data.csv', dtype=dtype_dict)\n",
    "sales = sales.sort_values(by = ['sqft_living','price'])\n",
    "print(sales.head(2))"
   ]
  },
  {
   "cell_type": "markdown",
   "metadata": {},
   "source": [
    "## Polynomial regression, revisited"
   ]
  },
  {
   "cell_type": "code",
   "execution_count": 2,
   "metadata": {
    "collapsed": true
   },
   "outputs": [],
   "source": [
    "def polynomial_dataframe(feature, degree):\n",
    "    # assume that degree >= 1\n",
    "    # initialize the SFrame:\n",
    "    \n",
    "    # and set poly_sframe['power_1'] equal to the passed feature\n",
    "    poly_sframe = pd.DataFrame(feature)\n",
    "    poly_sframe.columns = ['power_1']\n",
    "    # first check if degree > 1\n",
    "    if degree > 1:\n",
    "        # then loop over the remaining degrees:\n",
    "        # range usually starts at 0 and stops at the endpoint-1. We want it to start at 2 and stop at degree\n",
    "        for power in range(2, degree+1): \n",
    "            # first we'll give the column a name:\n",
    "            name = 'power_' + str(power)\n",
    "            # then assign poly_sframe[name] to the appropriate power of feature\n",
    "            poly_sframe[name] = feature**power\n",
    "    return poly_sframe\n",
    "    "
   ]
  },
  {
   "cell_type": "code",
   "execution_count": 3,
   "metadata": {
    "collapsed": true
   },
   "outputs": [],
   "source": [
    "import matplotlib.pyplot as plt\n",
    "%matplotlib inline"
   ]
  },
  {
   "cell_type": "code",
   "execution_count": 4,
   "metadata": {},
   "outputs": [
    {
     "name": "stdout",
     "output_type": "stream",
     "text": [
      "[ 1.  2.  3.]\n",
      "[  1.   8.  27.]\n",
      "{'power_1': array([ 1.,  2.,  3.])}\n",
      "   power_1  power_2  power_3\n",
      "0      1.0      1.0      1.0\n",
      "1      2.0      4.0      8.0\n",
      "2      3.0      9.0     27.0\n"
     ]
    }
   ],
   "source": [
    "tmp = np.array([1., 2., 3.])\n",
    "tmp_cubed = tmp**3\n",
    "print (tmp)\n",
    "print (tmp_cubed)\n",
    "\n",
    "\n",
    "ex_sframe={}\n",
    "ex_sframe['power_1'] = tmp\n",
    "print(ex_sframe)\n",
    "\n",
    "print(polynomial_dataframe(tmp, 3))"
   ]
  },
  {
   "cell_type": "markdown",
   "metadata": {},
   "source": [
    "## Import Data "
   ]
  },
  {
   "cell_type": "code",
   "execution_count": 5,
   "metadata": {},
   "outputs": [
    {
     "name": "stdout",
     "output_type": "stream",
     "text": [
      "       power_1  power_2     price\n",
      "19452      290    84100  142000.0\n",
      "15381      370   136900  276000.0\n",
      "860        380   144400  245000.0\n",
      "18379      384   147456  265000.0\n"
     ]
    }
   ],
   "source": [
    "sales = pd.read_csv('kc_house_data.csv')\n",
    "sales = sales.sort_values(by=['sqft_living','price'])\n",
    "\n",
    "train = pd.read_csv('wk3_kc_house_train_data.csv')\n",
    "test = pd.read_csv('wk3_kc_house_test_data.csv')\n",
    "\n",
    "\n",
    "poly1_data = polynomial_dataframe(sales['sqft_living'], 2)\n",
    "poly1_data['price'] = sales['price'] # add price to the data since it's the target\n",
    "print(poly1_data.head(4))"
   ]
  },
  {
   "cell_type": "markdown",
   "metadata": {},
   "source": [
    "Let us revisit the 15th-order polynomial model using the 'sqft_living' input. Generate polynomial features up to degree 15 using polynomial_sframe() and fit a model with these features. When fitting the model, use an L2 penalty of 1e-5:"
   ]
  },
  {
   "cell_type": "code",
   "execution_count": 6,
   "metadata": {
    "collapsed": true
   },
   "outputs": [],
   "source": [
    "l2_small_penalty = 1e-5"
   ]
  },
  {
   "cell_type": "markdown",
   "metadata": {},
   "source": [
    "Note: When we have so many features and so few data points, the solution can become highly numerically unstable, which can sometimes lead to strange unpredictable results. Thus, rather than using no regularization, we will introduce a tiny amount of regularization (l2_penalty=1e-5) to make the solution numerically stable. (In lecture, we discussed the fact that regularization can also help with numerical stability, and here we are seeing a practical example.)\n",
    "\n",
    "With the L2 penalty specified above, fit the model and print out the learned weights.\n",
    "\n",
    "Hint: make sure to add 'price' column to the new SFrame before calling graphlab.linear_regression.create(). Also, make sure GraphLab Create doesn't create its own validation set by using the option validation_set=None in this call."
   ]
  },
  {
   "cell_type": "code",
   "execution_count": 7,
   "metadata": {},
   "outputs": [
    {
     "name": "stdout",
     "output_type": "stream",
     "text": [
      "       power_1  power_2   power_3     power_4        power_5          power_6  \\\n",
      "19452      290    84100  24389000  7072810000  2051114900000  594823321000000   \n",
      "\n",
      "                  power_7              power_8              power_9  \\\n",
      "19452  172498763090000000 -5315590925028654848  8005133933292429824   \n",
      "\n",
      "                  power_10            power_11             power_12  \\\n",
      "19452 -2800912632598854656 -607924210447579136  8169419707297566720   \n",
      "\n",
      "                  power_13            power_14             power_15  \n",
      "19452  7948473681471741952 -785641586888785920 -6475131313233297408  \n"
     ]
    },
    {
     "data": {
      "text/plain": [
       "Text(0,0.5,'Price($)')"
      ]
     },
     "execution_count": 7,
     "metadata": {},
     "output_type": "execute_result"
    },
    {
     "data": {
      "image/png": "[encoded data removed]",
      "text/plain": [
       "<matplotlib.figure.Figure at 0xb81d1692e8>"
      ]
     },
     "metadata": {},
     "output_type": "display_data"
    }
   ],
   "source": [
    "poly15_data = polynomial_dataframe(sales['sqft_living'], 15)\n",
    "#poly15_data['price'] = sales['price'] # add price to the data since it's the target\n",
    "print(poly15_data.head(1))\n",
    "from sklearn import linear_model\n",
    "import numpy as np\n",
    "\n",
    "model = linear_model.Ridge(alpha=l2_small_penalty, normalize=True)\n",
    "model.fit(poly15_data, sales['price'])\n",
    "\n",
    "plt.plot(poly15_data['power_1'],sales['price'],'.',\n",
    "         poly15_data['power_1'], model.predict(poly15_data),'-')\n",
    "plt.xlabel('sqrt_living')\n",
    "plt.ylabel('Price($)')\n",
    "\n"
   ]
  },
  {
   "cell_type": "code",
   "execution_count": 8,
   "metadata": {},
   "outputs": [
    {
     "name": "stdout",
     "output_type": "stream",
     "text": [
      "Coefficients: \n",
      "\n",
      "array([  7.07831566e+01,   1.34955940e-02,   8.70171319e-06,\n",
      "        -6.29807619e-10,  -1.94397167e-14,  -1.57503941e-16,\n",
      "        -4.60442496e-16,   3.42210621e-16,  -1.99220795e-16,\n",
      "        -2.50386527e-16,   2.17708004e-16,   6.75752008e-16,\n",
      "         4.48091745e-16,  -4.08213724e-16,   6.69562960e-17])\n",
      "Intercept: \n",
      "\n",
      "227318.12890757091\n"
     ]
    }
   ],
   "source": [
    "# The coefficients\n",
    "import pprint\n",
    "print('Coefficients: \\n')\n",
    "pprint.pprint(model.coef_)\n",
    "\n",
    "print('Intercept: \\n')\n",
    "pprint.pprint(model.intercept_)\n"
   ]
  },
  {
   "cell_type": "markdown",
   "metadata": {},
   "source": [
    "## Observe overfitting\n",
    "\n",
    "Recall from Week 3 that the polynomial fit of degree 15 changed wildly whenever the data changed. In particular, when we split the sales data into four subsets and fit the model of degree 15, the result came out to be very different for each subset. The model had a high variance. We will see in a moment that ridge regression reduces such variance. But first, we must reproduce the experiment we did in Week 3.\n",
    "\n",
    "First, split the data into split the sales data into four subsets of roughly equal size and call them set_1, set_2, set_3, and set_4. Use .random_split function and make sure you set seed=0."
   ]
  },
  {
   "cell_type": "code",
   "execution_count": 10,
   "metadata": {
    "collapsed": true
   },
   "outputs": [],
   "source": [
    "from sklearn.model_selection  import train_test_split\n",
    "l2_small_penalty=1e-9\n",
    "semi_split1, semi_split2 = train_test_split(sales, test_size =0.5, random_state=0)\n",
    "set_1, set_2 =  train_test_split(semi_split1, test_size =0.5, random_state=0)\n",
    "set_3, set_4 =  train_test_split(semi_split2, test_size =0.5, random_state=0)\n",
    "\n"
   ]
  },
  {
   "cell_type": "markdown",
   "metadata": {},
   "source": [
    "Next, fit a 15th degree polynomial on set_1, set_2, set_3, and set_4, using 'sqft_living' to predict prices. Print the weights and make a plot of the resulting model.\n",
    "\n",
    "Hint: When calling graphlab.linear_regression.create(), use the same L2 penalty as before (i.e. l2_small_penalty). Also, make sure GraphLab Create doesn't create its own validation set by using the option validation_set = None in this call."
   ]
  },
  {
   "cell_type": "code",
   "execution_count": 11,
   "metadata": {},
   "outputs": [
    {
     "name": "stdout",
     "output_type": "stream",
     "text": [
      "Coefficients _ set 1: \n",
      " [ -5.40310487e+01   5.84264615e-02   4.52746059e-06  -6.32926798e-10\n",
      "  -2.07600738e-14  -4.54960461e-17  -1.03501532e-15   1.04686213e-15\n",
      "   8.52498888e-17  -1.02824532e-15   1.29220190e-16  -5.59499281e-16\n",
      "   1.26027174e-16  -4.16785110e-16   8.84451076e-16]\n",
      "Intercept: \n",
      " 318942.854362\n"
     ]
    },
    {
     "data": {
      "image/png": "[encoded data removed]",
      "text/plain": [
       "<matplotlib.figure.Figure at 0xb81e64d198>"
      ]
     },
     "metadata": {},
     "output_type": "display_data"
    }
   ],
   "source": [
    "set_1 = set_1.sort_values(by=['sqft_living','price'])\n",
    "set_2 = set_2.sort_values(by=['sqft_living','price'])\n",
    "set_3 = set_3.sort_values(by=['sqft_living','price'])\n",
    "set_4 = set_4.sort_values(by=['sqft_living','price'])\n",
    "\n",
    "poly15_set1 = polynomial_dataframe(set_1['sqft_living'], 15)\n",
    "poly15_set2 = polynomial_dataframe(set_2['sqft_living'], 15)\n",
    "poly15_set3 = polynomial_dataframe(set_3['sqft_living'], 15)\n",
    "poly15_set4 = polynomial_dataframe(set_4['sqft_living'], 15)\n",
    "\n",
    "model = linear_model.Ridge(alpha=l2_small_penalty, normalize=True)\n",
    "model.fit(poly15_set1, set_1['price'])\n",
    "\n",
    "plt.plot(poly15_set1['power_1'],set_1['price'],'.',\n",
    "         poly15_set1['power_1'], model.predict(poly15_set1),'-')\n",
    "plt.xlabel('sqrt_living')\n",
    "plt.ylabel('Price($)')\n",
    "# The coefficients\n",
    "print('Coefficients _ set 1: \\n', model.coef_)\n",
    "print('Intercept: \\n', model.intercept_)\n"
   ]
  },
  {
   "cell_type": "code",
   "execution_count": 34,
   "metadata": {},
   "outputs": [
    {
     "name": "stdout",
     "output_type": "stream",
     "text": [
      "Coefficients_set 2: \n",
      " [ -3.67136292e+01   7.15075512e-02  -3.31336039e-06   8.91876010e-11\n",
      "  -7.96223758e-15   1.82397425e-16  -5.20722702e-16   1.12795475e-16\n",
      "  -2.90477612e-16   4.61192146e-16  -6.84647275e-16   7.71896573e-16\n",
      "   6.70900915e-16   2.29278905e-16  -3.26373038e-16]\n",
      "Intercept: \n",
      " 292903.261061\n"
     ]
    },
    {
     "data": {
      "image/png": "[encoded data removed]",
      "text/plain": [
       "<matplotlib.figure.Figure at 0x8b5c1e36a0>"
      ]
     },
     "metadata": {},
     "output_type": "display_data"
    }
   ],
   "source": [
    "model.fit(poly15_set2, set_2['price'])\n",
    "plt.plot(poly15_set2['power_1'],set_2['price'],'.',\n",
    "         poly15_set2['power_1'], model.predict(poly15_set2),'-')\n",
    "plt.xlabel('sqrt_living')\n",
    "plt.ylabel('Price($)')\n",
    "# The coefficients\n",
    "print('Coefficients_set 2: \\n', model.coef_)\n",
    "print('Intercept: \\n', model.intercept_)\n",
    "\n"
   ]
  },
  {
   "cell_type": "code",
   "execution_count": 12,
   "metadata": {},
   "outputs": [
    {
     "name": "stdout",
     "output_type": "stream",
     "text": [
      "Coefficients_set 3: \n",
      " [  2.29722813e+02  -5.19045050e-02   1.90671443e-05  -1.11743531e-09\n",
      "  -4.42332173e-14  -4.18745237e-16   1.90518292e-16   8.60422094e-17\n",
      "  -6.47060541e-16   4.34394522e-16   9.92463172e-16   1.54125728e-15\n",
      "   3.02261779e-16  -6.34714770e-16  -7.71612028e-16]\n",
      "Intercept: \n",
      " 110420.361885\n"
     ]
    },
    {
     "data": {
      "image/png": "[encoded data removed]",
      "text/plain": [
       "<matplotlib.figure.Figure at 0xb81d141128>"
      ]
     },
     "metadata": {},
     "output_type": "display_data"
    }
   ],
   "source": [
    "\n",
    "model.fit(poly15_set3, set_3['price'])\n",
    "plt.plot(poly15_set3['power_1'],set_3['price'],'.',\n",
    "         poly15_set3['power_1'], model.predict(poly15_set3),'-')\n",
    "plt.xlabel('sqrt_living')\n",
    "plt.ylabel('Price($)')\n",
    "# The coefficients\n",
    "print('Coefficients_set 3: \\n', model.coef_)\n",
    "print('Intercept: \\n', model.intercept_)\n"
   ]
  },
  {
   "cell_type": "code",
   "execution_count": 13,
   "metadata": {
    "scrolled": false
   },
   "outputs": [
    {
     "name": "stdout",
     "output_type": "stream",
     "text": [
      "Coefficients _ set 4: \n",
      " [ -2.92250519e+02   2.08551796e-01  -3.23959455e-05   2.09038942e-09\n",
      "   1.47607884e-14  -2.48460347e-16  -4.86888370e-16   1.21781876e-16\n",
      "   1.70098258e-16  -8.93587196e-16   3.39231873e-16   1.09678944e-15\n",
      "   1.12510288e-15  -6.17884080e-16   3.79743514e-16]\n",
      "Intercept: \n",
      " 447338.739787\n"
     ]
    },
    {
     "data": {
      "image/png": "[encoded data removed]",
      "text/plain": [
       "<matplotlib.figure.Figure at 0xb81e617160>"
      ]
     },
     "metadata": {},
     "output_type": "display_data"
    }
   ],
   "source": [
    "model.fit(poly15_set4, set_4['price'])\n",
    "plt.plot(poly15_set4['power_1'],set_4['price'],'.',\n",
    "         poly15_set4['power_1'], model.predict(poly15_set4),'-')\n",
    "plt.xlabel('sqrt_living')\n",
    "plt.ylabel('Price($)')\n",
    "\n",
    "# The coefficients\n",
    "print('Coefficients _ set 4: \\n', model.coef_)\n",
    "print('Intercept: \\n', model.intercept_)"
   ]
  },
  {
   "cell_type": "markdown",
   "metadata": {},
   "source": [
    "## Ridge regression comes to rescue\n",
    "\n",
    "Generally, whenever we see weights change so much in response to change in data, we believe the variance of our estimate to be large. Ridge regression aims to address this issue by penalizing \"large\" weights. (Weights of model15 looked quite small, but they are not that small because 'sqft_living' input is in the order of thousands.)\n",
    "\n",
    "With the argument l2_penalty=1e5, fit a 15th-order polynomial model on set_1, set_2, set_3, and set_4. Other than the change in the l2_penalty parameter, the code should be the same as the experiment above. Also, make sure GraphLab Create doesn't create its own validation set by using the option validation_set = None in this call."
   ]
  },
  {
   "cell_type": "code",
   "execution_count": 16,
   "metadata": {},
   "outputs": [
    {
     "name": "stdout",
     "output_type": "stream",
     "text": [
      "Coefficients _ set 1: \n",
      " [  2.24741966e+00   4.17321864e-04   6.89750914e-08   8.62805823e-12\n",
      "   2.07017537e-15  -1.86735851e-17   2.68387065e-19  -5.62384001e-18\n",
      "  -3.16491147e-19  -1.31147957e-17   6.69628470e-18  -6.41384844e-18\n",
      "  -7.94497892e-18  -7.30223749e-18  -1.66488319e-17]\n",
      "Intercept: \n",
      " 531334.670017\n"
     ]
    },
    {
     "data": {
      "image/png": "[encoded data removed]",
      "text/plain": [
       "<matplotlib.figure.Figure at 0xb8165ada20>"
      ]
     },
     "metadata": {},
     "output_type": "display_data"
    }
   ],
   "source": [
    "l2_large_penalty=1.23e2\n",
    "\n",
    "model = linear_model.Ridge(alpha=l2_large_penalty, normalize=True)\n",
    "model.fit(poly15_set1, set_1['price'])\n",
    "\n",
    "plt.plot(poly15_set1['power_1'],set_1['price'],'.',\n",
    "         poly15_set1['power_1'], model.predict(poly15_set1),'-')\n",
    "plt.xlabel('sqrt_living')\n",
    "plt.ylabel('Price($)')\n",
    "# The coefficients\n",
    "print('Coefficients _ set 1: \\n', model.coef_)\n",
    "print('Intercept: \\n', model.intercept_)\n"
   ]
  },
  {
   "cell_type": "code",
   "execution_count": 17,
   "metadata": {},
   "outputs": [
    {
     "name": "stdout",
     "output_type": "stream",
     "text": [
      "Coefficients_set 2: \n",
      " [  2.11154544e+00   3.93210170e-04   6.77823596e-08   9.51768093e-12\n",
      "   1.99377300e-15  -2.90172378e-17   1.38219195e-17  -1.37050481e-17\n",
      "  -8.74417558e-18  -1.17171783e-17   3.80550726e-18   2.45534956e-18\n",
      "  -4.10796306e-18  -1.23072295e-17  -3.19664965e-17]\n",
      "Intercept: \n",
      " 529905.094374\n",
      "Coefficients_set 3: \n",
      " [  2.30318610e+00   3.58990631e-04   3.29524944e-08   1.97771813e-12\n",
      "   9.85841003e-16  -2.31326039e-17   1.15017746e-17  -1.85357726e-18\n",
      "  -2.39436380e-17   2.83344756e-18   2.15075092e-17  -3.51407881e-18\n",
      "  -5.82424690e-18  -2.08305731e-17  -3.31745015e-17]\n",
      "Intercept: \n",
      " 537941.542343\n",
      "Coefficients _ set 4: \n",
      " [  2.21187785e+00   4.03002668e-04   6.21419428e-08   7.36409838e-12\n",
      "   1.69827612e-15  -2.87558886e-17   1.40938149e-17  -1.75007212e-18\n",
      "   1.06555230e-20  -1.55093348e-17   2.43828181e-18   1.03851624e-18\n",
      "   1.28789737e-20  -2.47796390e-17  -1.43663440e-17]\n",
      "Intercept: \n",
      " 528596.048937\n"
     ]
    },
    {
     "data": {
      "image/png": "[encoded data removed]",
      "text/plain": [
       "<matplotlib.figure.Figure at 0xb81c70dcf8>"
      ]
     },
     "metadata": {},
     "output_type": "display_data"
    }
   ],
   "source": [
    "model.fit(poly15_set2, set_2['price'])\n",
    "plt.plot(poly15_set2['power_1'],set_2['price'],'.',\n",
    "         poly15_set2['power_1'], model.predict(poly15_set2),'-')\n",
    "plt.xlabel('sqrt_living')\n",
    "plt.ylabel('Price($)')\n",
    "# The coefficients\n",
    "print('Coefficients_set 2: \\n', model.coef_)\n",
    "print('Intercept: \\n', model.intercept_)\n",
    "\n",
    "\n",
    "model.fit(poly15_set3, set_3['price'])\n",
    "plt.plot(poly15_set3['power_1'],set_3['price'],'.',\n",
    "         poly15_set3['power_1'], model.predict(poly15_set3),'-')\n",
    "plt.xlabel('sqrt_living')\n",
    "plt.ylabel('Price($)')\n",
    "# The coefficients\n",
    "print('Coefficients_set 3: \\n', model.coef_)\n",
    "print('Intercept: \\n', model.intercept_)\n",
    "\n",
    "model.fit(poly15_set4, set_4['price'])\n",
    "plt.plot(poly15_set4['power_1'],set_4['price'],'.',\n",
    "         poly15_set4['power_1'], model.predict(poly15_set4),'-')\n",
    "plt.xlabel('sqrt_living')\n",
    "plt.ylabel('Price($)')\n",
    "\n",
    "# The coefficients\n",
    "print('Coefficients _ set 4: \\n', model.coef_)\n",
    "print('Intercept: \\n', model.intercept_)"
   ]
  },
  {
   "cell_type": "markdown",
   "metadata": {},
   "source": [
    "These curves should vary a lot less, now that you applied a high degree of regularization.\n",
    "\n",
    "QUIZ QUESTION: For the models learned with the high level of regularization in each of these training sets, what are the smallest and largest values you learned for the coefficient of feature power_1? (For the purpose of answering this question, negative numbers are considered \"smaller\" than positive numbers. So -5 is smaller than -3, and -3 is smaller than 5 and so forth.)"
   ]
  },
  {
   "cell_type": "markdown",
   "metadata": {},
   "source": [
    "## Selecting an L2 penalty via cross-validation\n",
    "\n",
    "Just like the polynomial degree, the L2 penalty is a \"magic\" parameter we need to select. We could use the validation set approach as we did in the last module, but that approach has a major disadvantage: it leaves fewer observations available for training. Cross-validation seeks to overcome this issue by using all of the training set in a smart way.\n",
    "\n",
    "We will implement a kind of cross-validation called k-fold cross-validation. The method gets its name because it involves dividing the training set into k segments of roughtly equal size. Similar to the validation set method, we measure the validation error with one of the segments designated as the validation set. The major difference is that we repeat the process k times as follows:\n",
    "\n",
    "Set aside segment 0 as the validation set, and fit a model on rest of data, and evalutate it on this validation set\n",
    "Set aside segment 1 as the validation set, and fit a model on rest of data, and evalutate it on this validation set\n",
    "...\n",
    "Set aside segment k-1 as the validation set, and fit a model on rest of data, and evalutate it on this validation set\n",
    "\n",
    "After this process, we compute the average of the k validation errors, and use it as an estimate of the generalization error. Notice that all observations are used for both training and validation, as we iterate over segments of data.\n",
    "\n",
    "To estimate the generalization error well, it is crucial to shuffle the training data before dividing them into segments. GraphLab Create has a utility function for shuffling a given SFrame. We reserve 10% of the data as the test set and shuffle the remainder. (Make sure to use seed=1 to get consistent answer.)"
   ]
  },
  {
   "cell_type": "code",
   "execution_count": 18,
   "metadata": {
    "collapsed": true
   },
   "outputs": [],
   "source": [
    "#(train_valid, test) = sales.random_split(.9, seed=1)\n",
    "#train_valid_shuffled = graphlab.toolkits.cross_validation.shuffle(train_valid, random_seed=1)\n",
    "\n",
    "train_valid_shuffled = pd.read_csv('wk3_kc_house_train_valid_shuffled.csv', dtype=dtype_dict)\n",
    "test = pd.read_csv('wk3_kc_house_test_data.csv', dtype=dtype_dict)"
   ]
  },
  {
   "cell_type": "markdown",
   "metadata": {},
   "source": [
    "Once the data is shuffled, we divide it into equal segments. Each segment should receive n/k elements, where n is the number of observations in the training set and k is the number of segments. Since the segment 0 starts at index 0 and contains n/k elements, it ends at index (n/k)-1. The segment 1 starts where the segment 0 left off, at index (n/k). With n/k elements, the segment 1 ends at index (n*2/k)-1. Continuing in this fashion, we deduce that the segment i starts at index (n*i/k) and ends at (n*(i+1)/k)-1."
   ]
  },
  {
   "cell_type": "markdown",
   "metadata": {},
   "source": [
    "With this pattern in mind, we write a short loop that prints the starting and ending indices of each segment, just to make sure you are getting the splits right."
   ]
  },
  {
   "cell_type": "code",
   "execution_count": 23,
   "metadata": {},
   "outputs": [
    {
     "name": "stdout",
     "output_type": "stream",
     "text": [
      "19396\n",
      "0 (0, 1938)\n",
      "1 (1939, 3878)\n",
      "2 (3879, 5817)\n",
      "3 (5818, 7757)\n",
      "4 (7758, 9697)\n",
      "5 (9698, 11636)\n",
      "6 (11637, 13576)\n",
      "7 (13577, 15515)\n",
      "8 (15516, 17455)\n",
      "9 (17456, 19395)\n"
     ]
    }
   ],
   "source": [
    "n = len(train_valid_shuffled)\n",
    "k = 10 # 10-fold cross-validation\n",
    "print(n)\n",
    "for i in range(k):\n",
    "    start = int((n*i)/k)\n",
    "    end = int((n*(i+1))/k-1)\n",
    "    print (i, (start, end))"
   ]
  },
  {
   "cell_type": "markdown",
   "metadata": {
    "collapsed": true
   },
   "source": [
    "To verify that we have the right elements extracted, run the following cell, which computes the average price of the fourth segment. When rounded to nearest whole number, the average should be $536,234."
   ]
  },
  {
   "cell_type": "code",
   "execution_count": 21,
   "metadata": {
    "collapsed": true
   },
   "outputs": [],
   "source": [
    "validation4 = train_valid_shuffled[5818: 7757+1]"
   ]
  },
  {
   "cell_type": "code",
   "execution_count": 22,
   "metadata": {},
   "outputs": [
    {
     "name": "stdout",
     "output_type": "stream",
     "text": [
      "536234\n"
     ]
    }
   ],
   "source": [
    "print (int(round(validation4['price'].mean(), 0)))"
   ]
  },
  {
   "cell_type": "markdown",
   "metadata": {},
   "source": [
    "Let us familiarize ourselves with array slicing with SFrame. To extract a continuous slice from an SFrame, use colon in square brackets. For instance, the following cell extracts rows 0 to 9 of train_valid_shuffled. Notice that the first index (0) is included in the slice but the last index (10) is omitted."
   ]
  },
  {
   "cell_type": "markdown",
   "metadata": {},
   "source": [
    "Let us familiarize ourselves with array slicing with Pandas. To extract a continuous slice from a DataFrame, use colon in square brackets. For instance, the following cell extracts rows 0 to 9 of train_valid_shuffled. Notice that the first index (0) is included in the slice but the last index (10) is omitted."
   ]
  },
  {
   "cell_type": "code",
   "execution_count": 20,
   "metadata": {},
   "outputs": [
    {
     "data": {
      "text/html": [
       "<div>\n",
       "<style>\n",
       "    .dataframe thead tr:only-child th {\n",
       "        text-align: right;\n",
       "    }\n",
       "\n",
       "    .dataframe thead th {\n",
       "        text-align: left;\n",
       "    }\n",
       "\n",
       "    .dataframe tbody tr th {\n",
       "        vertical-align: top;\n",
       "    }\n",
       "</style>\n",
       "<table border=\"1\" class=\"dataframe\">\n",
       "  <thead>\n",
       "    <tr style=\"text-align: right;\">\n",
       "      <th></th>\n",
       "      <th>id</th>\n",
       "      <th>date</th>\n",
       "      <th>price</th>\n",
       "      <th>bedrooms</th>\n",
       "      <th>bathrooms</th>\n",
       "      <th>sqft_living</th>\n",
       "      <th>sqft_lot</th>\n",
       "      <th>floors</th>\n",
       "      <th>waterfront</th>\n",
       "      <th>view</th>\n",
       "      <th>...</th>\n",
       "      <th>grade</th>\n",
       "      <th>sqft_above</th>\n",
       "      <th>sqft_basement</th>\n",
       "      <th>yr_built</th>\n",
       "      <th>yr_renovated</th>\n",
       "      <th>zipcode</th>\n",
       "      <th>lat</th>\n",
       "      <th>long</th>\n",
       "      <th>sqft_living15</th>\n",
       "      <th>sqft_lot15</th>\n",
       "    </tr>\n",
       "  </thead>\n",
       "  <tbody>\n",
       "    <tr>\n",
       "      <th>0</th>\n",
       "      <td>2780400035</td>\n",
       "      <td>20140505T000000</td>\n",
       "      <td>665000.0</td>\n",
       "      <td>4.0</td>\n",
       "      <td>2.50</td>\n",
       "      <td>2800.0</td>\n",
       "      <td>5900</td>\n",
       "      <td>1.0</td>\n",
       "      <td>0</td>\n",
       "      <td>0</td>\n",
       "      <td>...</td>\n",
       "      <td>8</td>\n",
       "      <td>1660</td>\n",
       "      <td>1140</td>\n",
       "      <td>1963</td>\n",
       "      <td>0</td>\n",
       "      <td>98115</td>\n",
       "      <td>47.6809</td>\n",
       "      <td>-122.286</td>\n",
       "      <td>2580.0</td>\n",
       "      <td>5900.0</td>\n",
       "    </tr>\n",
       "    <tr>\n",
       "      <th>1</th>\n",
       "      <td>1703050500</td>\n",
       "      <td>20150321T000000</td>\n",
       "      <td>645000.0</td>\n",
       "      <td>3.0</td>\n",
       "      <td>2.50</td>\n",
       "      <td>2490.0</td>\n",
       "      <td>5978</td>\n",
       "      <td>2.0</td>\n",
       "      <td>0</td>\n",
       "      <td>0</td>\n",
       "      <td>...</td>\n",
       "      <td>9</td>\n",
       "      <td>2490</td>\n",
       "      <td>0</td>\n",
       "      <td>2003</td>\n",
       "      <td>0</td>\n",
       "      <td>98074</td>\n",
       "      <td>47.6298</td>\n",
       "      <td>-122.022</td>\n",
       "      <td>2710.0</td>\n",
       "      <td>6629.0</td>\n",
       "    </tr>\n",
       "    <tr>\n",
       "      <th>2</th>\n",
       "      <td>5700002325</td>\n",
       "      <td>20140605T000000</td>\n",
       "      <td>640000.0</td>\n",
       "      <td>3.0</td>\n",
       "      <td>1.75</td>\n",
       "      <td>2340.0</td>\n",
       "      <td>4206</td>\n",
       "      <td>1.0</td>\n",
       "      <td>0</td>\n",
       "      <td>0</td>\n",
       "      <td>...</td>\n",
       "      <td>7</td>\n",
       "      <td>1170</td>\n",
       "      <td>1170</td>\n",
       "      <td>1917</td>\n",
       "      <td>0</td>\n",
       "      <td>98144</td>\n",
       "      <td>47.5759</td>\n",
       "      <td>-122.288</td>\n",
       "      <td>1360.0</td>\n",
       "      <td>4725.0</td>\n",
       "    </tr>\n",
       "    <tr>\n",
       "      <th>3</th>\n",
       "      <td>0475000510</td>\n",
       "      <td>20141118T000000</td>\n",
       "      <td>594000.0</td>\n",
       "      <td>3.0</td>\n",
       "      <td>1.00</td>\n",
       "      <td>1320.0</td>\n",
       "      <td>5000</td>\n",
       "      <td>1.0</td>\n",
       "      <td>0</td>\n",
       "      <td>0</td>\n",
       "      <td>...</td>\n",
       "      <td>7</td>\n",
       "      <td>1090</td>\n",
       "      <td>230</td>\n",
       "      <td>1920</td>\n",
       "      <td>0</td>\n",
       "      <td>98107</td>\n",
       "      <td>47.6674</td>\n",
       "      <td>-122.365</td>\n",
       "      <td>1700.0</td>\n",
       "      <td>5000.0</td>\n",
       "    </tr>\n",
       "    <tr>\n",
       "      <th>4</th>\n",
       "      <td>0844001052</td>\n",
       "      <td>20150128T000000</td>\n",
       "      <td>365000.0</td>\n",
       "      <td>4.0</td>\n",
       "      <td>2.50</td>\n",
       "      <td>1904.0</td>\n",
       "      <td>8200</td>\n",
       "      <td>2.0</td>\n",
       "      <td>0</td>\n",
       "      <td>0</td>\n",
       "      <td>...</td>\n",
       "      <td>7</td>\n",
       "      <td>1904</td>\n",
       "      <td>0</td>\n",
       "      <td>1999</td>\n",
       "      <td>0</td>\n",
       "      <td>98010</td>\n",
       "      <td>47.3107</td>\n",
       "      <td>-122.001</td>\n",
       "      <td>1560.0</td>\n",
       "      <td>12426.0</td>\n",
       "    </tr>\n",
       "    <tr>\n",
       "      <th>5</th>\n",
       "      <td>2781280290</td>\n",
       "      <td>20150427T000000</td>\n",
       "      <td>305000.0</td>\n",
       "      <td>3.0</td>\n",
       "      <td>2.50</td>\n",
       "      <td>1610.0</td>\n",
       "      <td>3516</td>\n",
       "      <td>2.0</td>\n",
       "      <td>0</td>\n",
       "      <td>0</td>\n",
       "      <td>...</td>\n",
       "      <td>8</td>\n",
       "      <td>1610</td>\n",
       "      <td>0</td>\n",
       "      <td>2006</td>\n",
       "      <td>0</td>\n",
       "      <td>98055</td>\n",
       "      <td>47.4491</td>\n",
       "      <td>-122.188</td>\n",
       "      <td>1610.0</td>\n",
       "      <td>3056.0</td>\n",
       "    </tr>\n",
       "    <tr>\n",
       "      <th>6</th>\n",
       "      <td>2214800630</td>\n",
       "      <td>20141105T000000</td>\n",
       "      <td>239950.0</td>\n",
       "      <td>3.0</td>\n",
       "      <td>2.25</td>\n",
       "      <td>1560.0</td>\n",
       "      <td>8280</td>\n",
       "      <td>2.0</td>\n",
       "      <td>0</td>\n",
       "      <td>0</td>\n",
       "      <td>...</td>\n",
       "      <td>7</td>\n",
       "      <td>1560</td>\n",
       "      <td>0</td>\n",
       "      <td>1979</td>\n",
       "      <td>0</td>\n",
       "      <td>98001</td>\n",
       "      <td>47.3393</td>\n",
       "      <td>-122.259</td>\n",
       "      <td>1920.0</td>\n",
       "      <td>8120.0</td>\n",
       "    </tr>\n",
       "    <tr>\n",
       "      <th>7</th>\n",
       "      <td>2114700540</td>\n",
       "      <td>20141021T000000</td>\n",
       "      <td>366000.0</td>\n",
       "      <td>3.0</td>\n",
       "      <td>2.50</td>\n",
       "      <td>1320.0</td>\n",
       "      <td>4320</td>\n",
       "      <td>1.0</td>\n",
       "      <td>0</td>\n",
       "      <td>0</td>\n",
       "      <td>...</td>\n",
       "      <td>6</td>\n",
       "      <td>660</td>\n",
       "      <td>660</td>\n",
       "      <td>1918</td>\n",
       "      <td>0</td>\n",
       "      <td>98106</td>\n",
       "      <td>47.5327</td>\n",
       "      <td>-122.347</td>\n",
       "      <td>1190.0</td>\n",
       "      <td>4200.0</td>\n",
       "    </tr>\n",
       "    <tr>\n",
       "      <th>8</th>\n",
       "      <td>2596400050</td>\n",
       "      <td>20140730T000000</td>\n",
       "      <td>375000.0</td>\n",
       "      <td>3.0</td>\n",
       "      <td>1.00</td>\n",
       "      <td>1960.0</td>\n",
       "      <td>7955</td>\n",
       "      <td>1.0</td>\n",
       "      <td>0</td>\n",
       "      <td>0</td>\n",
       "      <td>...</td>\n",
       "      <td>7</td>\n",
       "      <td>1260</td>\n",
       "      <td>700</td>\n",
       "      <td>1963</td>\n",
       "      <td>0</td>\n",
       "      <td>98177</td>\n",
       "      <td>47.7641</td>\n",
       "      <td>-122.364</td>\n",
       "      <td>1850.0</td>\n",
       "      <td>8219.0</td>\n",
       "    </tr>\n",
       "    <tr>\n",
       "      <th>9</th>\n",
       "      <td>4140900050</td>\n",
       "      <td>20150126T000000</td>\n",
       "      <td>440000.0</td>\n",
       "      <td>4.0</td>\n",
       "      <td>1.75</td>\n",
       "      <td>2180.0</td>\n",
       "      <td>10200</td>\n",
       "      <td>1.0</td>\n",
       "      <td>0</td>\n",
       "      <td>2</td>\n",
       "      <td>...</td>\n",
       "      <td>8</td>\n",
       "      <td>2000</td>\n",
       "      <td>180</td>\n",
       "      <td>1966</td>\n",
       "      <td>0</td>\n",
       "      <td>98028</td>\n",
       "      <td>47.7638</td>\n",
       "      <td>-122.270</td>\n",
       "      <td>2590.0</td>\n",
       "      <td>10445.0</td>\n",
       "    </tr>\n",
       "  </tbody>\n",
       "</table>\n",
       "<p>10 rows × 21 columns</p>\n",
       "</div>"
      ],
      "text/plain": [
       "           id             date     price  bedrooms  bathrooms  sqft_living  \\\n",
       "0  2780400035  20140505T000000  665000.0       4.0       2.50       2800.0   \n",
       "1  1703050500  20150321T000000  645000.0       3.0       2.50       2490.0   \n",
       "2  5700002325  20140605T000000  640000.0       3.0       1.75       2340.0   \n",
       "3  0475000510  20141118T000000  594000.0       3.0       1.00       1320.0   \n",
       "4  0844001052  20150128T000000  365000.0       4.0       2.50       1904.0   \n",
       "5  2781280290  20150427T000000  305000.0       3.0       2.50       1610.0   \n",
       "6  2214800630  20141105T000000  239950.0       3.0       2.25       1560.0   \n",
       "7  2114700540  20141021T000000  366000.0       3.0       2.50       1320.0   \n",
       "8  2596400050  20140730T000000  375000.0       3.0       1.00       1960.0   \n",
       "9  4140900050  20150126T000000  440000.0       4.0       1.75       2180.0   \n",
       "\n",
       "   sqft_lot  floors  waterfront  view     ...      grade  sqft_above  \\\n",
       "0      5900     1.0           0     0     ...          8        1660   \n",
       "1      5978     2.0           0     0     ...          9        2490   \n",
       "2      4206     1.0           0     0     ...          7        1170   \n",
       "3      5000     1.0           0     0     ...          7        1090   \n",
       "4      8200     2.0           0     0     ...          7        1904   \n",
       "5      3516     2.0           0     0     ...          8        1610   \n",
       "6      8280     2.0           0     0     ...          7        1560   \n",
       "7      4320     1.0           0     0     ...          6         660   \n",
       "8      7955     1.0           0     0     ...          7        1260   \n",
       "9     10200     1.0           0     2     ...          8        2000   \n",
       "\n",
       "   sqft_basement  yr_built  yr_renovated  zipcode      lat     long  \\\n",
       "0           1140      1963             0    98115  47.6809 -122.286   \n",
       "1              0      2003             0    98074  47.6298 -122.022   \n",
       "2           1170      1917             0    98144  47.5759 -122.288   \n",
       "3            230      1920             0    98107  47.6674 -122.365   \n",
       "4              0      1999             0    98010  47.3107 -122.001   \n",
       "5              0      2006             0    98055  47.4491 -122.188   \n",
       "6              0      1979             0    98001  47.3393 -122.259   \n",
       "7            660      1918             0    98106  47.5327 -122.347   \n",
       "8            700      1963             0    98177  47.7641 -122.364   \n",
       "9            180      1966             0    98028  47.7638 -122.270   \n",
       "\n",
       "   sqft_living15  sqft_lot15  \n",
       "0         2580.0      5900.0  \n",
       "1         2710.0      6629.0  \n",
       "2         1360.0      4725.0  \n",
       "3         1700.0      5000.0  \n",
       "4         1560.0     12426.0  \n",
       "5         1610.0      3056.0  \n",
       "6         1920.0      8120.0  \n",
       "7         1190.0      4200.0  \n",
       "8         1850.0      8219.0  \n",
       "9         2590.0     10445.0  \n",
       "\n",
       "[10 rows x 21 columns]"
      ]
     },
     "execution_count": 20,
     "metadata": {},
     "output_type": "execute_result"
    }
   ],
   "source": [
    "train_valid_shuffled[0:10] # rows 0 to 9"
   ]
  },
  {
   "cell_type": "markdown",
   "metadata": {},
   "source": [
    "Now let us extract individual segments with array slicing. Consider the scenario where we group the houses in the train_valid_shuffled dataframe into k=10 segments of roughly equal size, with starting and ending indices computed as above. Extract the fourth segment (segment 3) and assign it to a variable called validation4."
   ]
  },
  {
   "cell_type": "markdown",
   "metadata": {},
   "source": [
    "Now we are ready to implement k-fold cross-validation. Write a function that computes k validation errors by designating each of the k segments as the validation set. It accepts as parameters (i) k, (ii) l2_penalty, (iii) dataframe containing input features (e.g. poly15_data) and (iv) column of output values (e.g. price). The function returns the average validation error using k segments as validation sets. We shall assume that the input dataframe does not contain the output column.\n",
    "\n",
    "For each i in [0, 1, ... k-1]:\n",
    "\n",
    "Compute starting and ending indices of segment i and call 'start' and 'end'\n",
    "\n",
    "Form validation set by taking a slice (start:end+1) from the data.\n",
    "\n",
    "Form training set by appending slice (end+1:n) to the end of slice (0:start).\n",
    "\n",
    "Train a linear model using training set just formed, with a given l2_penalty\n",
    "\n",
    "Compute validation error (RSS) using validation set just formed"
   ]
  },
  {
   "cell_type": "code",
   "execution_count": 73,
   "metadata": {},
   "outputs": [],
   "source": [
    "def k_fold_cross_validation(k, l2_penalty, data, output):\n",
    "    \n",
    "    n = len(data)\n",
    "    RSS =np.zeros(shape=(k,1))\n",
    "    for i in range(k):\n",
    "        start = int((n*i)/k)\n",
    "        end = int((n*(i+1))/k-1)\n",
    "        traing_k_x = data[start:end+1]\n",
    "        traing_k_y = output[start:end+1]\n",
    "        validation_x = data[0:start].append(data[end:n+1])\n",
    "        validation_y = output[0:start].append(output[end:n+1])\n",
    "        \n",
    "        #poly15_feature = polynomial_dataframe(traing_k_x, 15)\n",
    "        model = linear_model.Ridge(alpha=l2_penalty, normalize=True)\n",
    "    \n",
    "        model.fit(traing_k_x, traing_k_y)\n",
    "        \n",
    "        predictions = model.predict(validation_x)\n",
    "        RSS_temp = ((predictions-validation_y)**2).sum()\n",
    "        \n",
    "        RSS[i]=RSS_temp\n",
    "        \n",
    "    return RSS.mean()"
   ]
  },
  {
   "cell_type": "code",
   "execution_count": 102,
   "metadata": {},
   "outputs": [
    {
     "name": "stdout",
     "output_type": "stream",
     "text": [
      "array([  1.00000000e+03,   3.16227766e+03,   1.00000000e+04,\n",
      "         3.16227766e+04,   1.00000000e+05,   3.16227766e+05,\n",
      "         1.00000000e+06,   3.16227766e+06,   1.00000000e+07,\n",
      "         3.16227766e+07,   1.00000000e+08,   3.16227766e+08,\n",
      "         1.00000000e+09])\n",
      "0.0\n"
     ]
    }
   ],
   "source": [
    "l2_penalties = np.logspace(3, 9, num=13) \n",
    "pprint.pprint(l2_penalties)\n",
    "\n",
    "\n",
    "print(a.mean())\n",
    "\n",
    "k=10    "
   ]
  },
  {
   "cell_type": "code",
   "execution_count": 103,
   "metadata": {},
   "outputs": [],
   "source": [
    "RSS_cross =np.zeros(shape=(len(l2_penalties),1))\n",
    "output = train_valid_shuffled['price']\n",
    "i =0\n",
    "data =polynomial_dataframe(train_valid_shuffled['sqft_living'], 15)\n",
    "for l2_penalty in l2_penalties:\n",
    "    RSS_cross[i]= k_fold_cross_validation(k, l2_penalty, data, output)\n",
    "    i+=1\n",
    "\n"
   ]
  },
  {
   "cell_type": "code",
   "execution_count": 104,
   "metadata": {},
   "outputs": [
    {
     "name": "stdout",
     "output_type": "stream",
     "text": [
      "2.38907659432e+15\n",
      "2\n",
      "      l2_penalty           RSS\n",
      "0   1.000000e+03  2.672745e+15\n",
      "1   3.162278e+03  2.401694e+15\n",
      "2   1.000000e+04  2.389077e+15\n",
      "3   3.162278e+04  2.392669e+15\n",
      "4   1.000000e+05  2.394572e+15\n",
      "5   3.162278e+05  2.395251e+15\n",
      "6   1.000000e+06  2.395473e+15\n",
      "7   3.162278e+06  2.395544e+15\n",
      "8   1.000000e+07  2.395567e+15\n",
      "9   3.162278e+07  2.395574e+15\n",
      "10  1.000000e+08  2.395576e+15\n",
      "11  3.162278e+08  2.395577e+15\n",
      "12  1.000000e+09  2.395577e+15\n"
     ]
    }
   ],
   "source": [
    "print(RSS_cross.min())\n",
    "print(RSS_cross.argmin())\n",
    "   \n",
    "index = np.array((l2_penalties))\n",
    "RSS_print = pd.DataFrame(index)\n",
    "RSS_print.columns = ['l2_penalty']\n",
    "RSS_print['RSS'] = RSS_cross\n",
    "print(RSS_print)"
   ]
  },
  {
   "cell_type": "code",
   "execution_count": 105,
   "metadata": {},
   "outputs": [
    {
     "data": {
      "image/png": "[encoded data removed]",
      "text/plain": [
       "<matplotlib.figure.Figure at 0xb82356b0b8>"
      ]
     },
     "metadata": {},
     "output_type": "display_data"
    }
   ],
   "source": [
    "\n",
    "plt.figure()\n",
    "plt.plot(RSS_print['l2_penalty'], RSS_print['RSS'],'-',\n",
    "    RSS_print['l2_penalty'][RSS_print['RSS'].argmin()], RSS_print['RSS'].min(),'rD')\n",
    "plt.title(\"cvRSS\")\n",
    "plt.xscale('log')\n",
    "# axes = plt.gca()\n",
    "#axes.set_xlim([xmin,xmax])\n",
    "# axes.set_ylim([0,RSS['Validation'][10] * 1.5])\n",
    "plt.show()"
   ]
  },
  {
   "cell_type": "code",
   "execution_count": 106,
   "metadata": {},
   "outputs": [
    {
     "data": {
      "image/png": "[encoded data removed]",
      "text/plain": [
       "<matplotlib.figure.Figure at 0xb821fbe860>"
      ]
     },
     "metadata": {},
     "output_type": "display_data"
    }
   ],
   "source": [
    "plt.figure()\n",
    "plt.plot(range(len(l2_penalties)), RSS_cross,'-',\n",
    "        RSS_cross.argmin(), RSS_cross.min(),'rD')\n",
    "plt.title(\"cvRSS\")\n",
    "#plt.yscale('log')\n",
    "plt.xlabel('index of l2_penalties')\n",
    "plt.ylabel('RSS of cross validation')\n",
    "# axes = plt.gca()\n",
    "#axes.set_xlim([xmin,xmax])\n",
    "# axes.set_ylim([0,RSS['Validation'][10] * 1.5])\n",
    "plt.show()\n"
   ]
  },
  {
   "cell_type": "markdown",
   "metadata": {},
   "source": [
    "## QUIZ QUESTIONS: What is the best value for the L2 penalty according to 10-fold validation?\n",
    "\n",
    "You may find it useful to plot the k-fold cross-validation errors you have obtained to better understand the behavior of the method."
   ]
  },
  {
   "cell_type": "markdown",
   "metadata": {},
   "source": [
    "## QUIZ QUESTION: Using the best L2 penalty found above, train a model using all training data. What is the RSS on the TEST data of the model you learn with this L2 penalty?"
   ]
  },
  {
   "cell_type": "code",
   "execution_count": 86,
   "metadata": {
    "collapsed": true
   },
   "outputs": [],
   "source": [
    "train = pd.read_csv('wk3_kc_house_train_data.csv')\n",
    "test = pd.read_csv('wk3_kc_house_test_data.csv')"
   ]
  },
  {
   "cell_type": "code",
   "execution_count": 107,
   "metadata": {},
   "outputs": [
    {
     "name": "stdout",
     "output_type": "stream",
     "text": [
      "2\n",
      "284718924192003.3\n"
     ]
    }
   ],
   "source": [
    "test_feature =polynomial_dataframe(train['sqft_living'], 15)\n",
    "model = linear_model.Ridge(alpha=l2_penalty[print(RSS_cross.argmin())], normalize=True)\n",
    "\n",
    "model.fit(test_feature, train['price'])\n",
    "\n",
    "test_predictions = model.predict(polynomial_dataframe(test['sqft_living'], 15))\n",
    "\n",
    "test_RSS = ((test_predictions - test['price'])**2).sum()\n",
    "\n",
    "print(test_RSS)\n",
    "\n"
   ]
  },
  {
   "cell_type": "code",
   "execution_count": 108,
   "metadata": {},
   "outputs": [
    {
     "name": "stdout",
     "output_type": "stream",
     "text": [
      "Coefficients_set 2: \n",
      " [  2.88598463e-07   5.24926505e-11   7.61368675e-15   7.18476938e-19\n",
      "   2.25729147e-22  -3.20892281e-24   1.82640468e-24  -1.65975621e-24\n",
      "  -1.77185767e-24  -1.03977828e-24   9.39721609e-25  -8.42093681e-25\n",
      "   2.18488435e-25  -1.86244991e-24  -3.23550924e-24]\n",
      "Intercept: \n",
      " 542734.950576\n"
     ]
    },
    {
     "data": {
      "image/png": "[encoded data removed]",
      "text/plain": [
       "<matplotlib.figure.Figure at 0xb81c682a20>"
      ]
     },
     "metadata": {},
     "output_type": "display_data"
    }
   ],
   "source": [
    "plt.plot(test_feature['power_1'],train['price'],'.',\n",
    "         test_feature['power_1'], model.predict(test_feature),'-')\n",
    "plt.xlabel('sqrt_living')\n",
    "plt.ylabel('Price($)')\n",
    "# The coefficients\n",
    "print('Coefficients_set 2: \\n', model.coef_)\n",
    "print('Intercept: \\n', model.intercept_)"
   ]
  }
 ],
 "metadata": {
  "kernelspec": {
   "display_name": "Python 3",
   "language": "python",
   "name": "python3"
  },
  "language_info": {
   "codemirror_mode": {
    "name": "ipython",
    "version": 3
   },
   "file_extension": ".py",
   "mimetype": "text/x-python",
   "name": "python",
   "nbconvert_exporter": "python",
   "pygments_lexer": "ipython3",
   "version": "3.6.3"
  }
 },
 "nbformat": 4,
 "nbformat_minor": 2
}
